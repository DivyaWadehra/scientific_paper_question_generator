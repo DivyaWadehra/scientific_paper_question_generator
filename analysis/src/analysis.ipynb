{
 "cells": [
  {
   "cell_type": "code",
   "execution_count": 63,
   "metadata": {
    "collapsed": true
   },
   "outputs": [],
   "source": [
    "import pandas as pd\n",
    "import numpy as np\n",
    "import os\n",
    "import matplotlib.pyplot as plt\n",
    "import math \n",
    "\n",
    "% matplotlib inline"
   ]
  },
  {
   "cell_type": "code",
   "execution_count": 31,
   "metadata": {},
   "outputs": [],
   "source": [
    "\n",
    "# Import data files\n",
    "data_folder = \"/Users/vitou/Workspaces/AizawaLab/scientific_question_generation/data/clean/ai.stackexchange.com\"\n",
    "train_file = os.path.join(data_folder, \"train.csv\")\n",
    "dev_file = os.path.join(data_folder, \"dev.csv\")\n",
    "test_file = os.path.join(data_folder, \"test.csv\")\n",
    "\n",
    "df_train = pd.read_csv(train_file)\n",
    "df_dev = pd.read_csv(dev_file)\n",
    "df_test = pd.read_csv(test_file)\n",
    "df = pd.concat([df_train, df_dev, df_test])\n",
    "\n",
    "save_dir = \"/Users/vitou/Workspaces/AizawaLab/scientific_question_generation/analysis/figures/\"\n",
    "name = \"ai.stackexchange.com\"\n",
    "save_dir = os.path.join(save_dir, name)\n",
    "\n",
    "if not os.path.exists(save_dir):\n",
    "    os.mkdir(save_dir)\n",
    "    print(\"Directory \" , save_dir ,  \" Created \") "
   ]
  },
  {
   "cell_type": "code",
   "execution_count": 33,
   "metadata": {},
   "outputs": [
    {
     "name": "stdout",
     "output_type": "stream",
     "text": [
      "<class 'pandas.core.frame.DataFrame'>\n",
      "Int64Index: 64 entries, 0 to 6\n",
      "Data columns (total 8 columns):\n",
      "QuestionId       64 non-null int64\n",
      "AnswerId         64 non-null int64\n",
      "Title            64 non-null object\n",
      "Tags             64 non-null object\n",
      "QuestionBody     64 non-null object\n",
      "QuestionScore    64 non-null int64\n",
      "AnswerBody       64 non-null object\n",
      "AnswerScore      64 non-null int64\n",
      "dtypes: int64(4), object(4)\n",
      "memory usage: 4.5+ KB\n"
     ]
    }
   ],
   "source": [
    "df.info()"
   ]
  },
  {
   "cell_type": "code",
   "execution_count": 34,
   "metadata": {},
   "outputs": [
    {
     "data": {
      "text/plain": [
       "0              does this \" flavor \" of ai have a name ?\n",
       "1                   problems in artificial intelligence\n",
       "2                 memory intensive local search methods\n",
       "3     predicting housing values with neural network ...\n",
       "4     how to refine k - means clustering on a data s...\n",
       "5     potential based reshaping : any potential func...\n",
       "6         is robotic process automation related to ai ?\n",
       "7     best way to build api for input data and get r...\n",
       "8     why are deep neural networks and deep learning...\n",
       "9                key point extraction the best method ?\n",
       "10    what is the mapping between actions and number...\n",
       "11    understanding the math behind using maximum li...\n",
       "12    are the ideas in the paper \" governance by gla...\n",
       "13    reinforcement learning with adaptive action ma...\n",
       "14      a sentence with different parse tree structures\n",
       "15                                   sentiment analysis\n",
       "16                q - learning tic tac toe - bad player\n",
       "17    what makes multi - layer neural networks be ab...\n",
       "18    linear regression : why is distance * squared ...\n",
       "19    at what rate could ai theoretically self - imp...\n",
       "20    negative reward ( penalty ) in policy gradient...\n",
       "21        question classification according to chapters\n",
       "22    must people tell an ai which algorithm it shou...\n",
       "23    my dqn is stuck and ca n't see where the probl...\n",
       "24             how to speed up yolov3 detection speed ?\n",
       "25    target values of 0.1 for 0 and 0.9 for 1 for s...\n",
       "26    how to implement a continuous control of a qua...\n",
       "27    how does backpropagation with unbounded activa...\n",
       "28       genetic programming with \" karel the robot \" ?\n",
       "29    taking into consideration \" number of steps \" ...\n",
       "                            ...                        \n",
       "34        machine learning to detect wrong address data\n",
       "35     developing character tactics via repeated trials\n",
       "36                   is known math really enough for ai\n",
       "37    single ai - person in software firm about to a...\n",
       "38    why spend so much time and money to build ais ...\n",
       "39    how can a collaboration game be defined mathem...\n",
       "40    in a cnn , does each new filter have different...\n",
       "41    deep q - learning is not performing well when ...\n",
       "42    is reinforcement learning the future of natura...\n",
       "43    trying to understand vgg convolution neural ne...\n",
       "44          \" vocal captcha \" for robots on the phone ?\n",
       "45                         predict value from image set\n",
       "46           using yodaqa with a non - wikipedia source\n",
       "47    what if there 's a game where all the ai peopl...\n",
       "48    using umap , pca or t - sne to find the separa...\n",
       "49                 can a cnn be trained incrementally ?\n",
       "0     can the rewards be stochastic when the transit...\n",
       "1         how do generative adversarial networks work ?\n",
       "2        what do i need to study for machine learning ?\n",
       "3     what is the most time consuming part of traini...\n",
       "4     feature selection algorithm for a high feature...\n",
       "5                               compound intelligence ?\n",
       "6                    a * algorithm undefined name error\n",
       "0     what s the name of the value that you add or s...\n",
       "1     when is a measurable function a bayesian decis...\n",
       "2     why studying machine learning is an opportunit...\n",
       "3     tuning of ppo metaparameters : a high level ov...\n",
       "4     does an advanced dialogue state tracking elimi...\n",
       "5              how to speed up yolov3 detection speed ?\n",
       "6     who will be the first to announce \" artificial...\n",
       "Name: Title, Length: 64, dtype: object"
      ]
     },
     "execution_count": 34,
     "metadata": {},
     "output_type": "execute_result"
    }
   ],
   "source": [
    "df['Title']"
   ]
  },
  {
   "cell_type": "markdown",
   "metadata": {},
   "source": [
    "## Preparing the data\n",
    "\n",
    "Read in the question and answer files.\n"
   ]
  },
  {
   "cell_type": "code",
   "execution_count": 52,
   "metadata": {},
   "outputs": [],
   "source": [
    "def get_answer_length(row):\n",
    "    a = row['AnswerBody']\n",
    "    return len(a.split())\n",
    "\n",
    "# answers.dropna(subset=['Body'], inplace=True)\n",
    "df['AnswerLength'] = df.apply(get_answer_length, axis=1)\n",
    "\n",
    "def get_title_length(row):\n",
    "    a = row['Title']\n",
    "    return len(a.split())\n",
    "# questions.dropna(subset=['Title'], inplace=True)\n",
    "df['TitleLength'] = df.apply(get_title_length, axis=1)"
   ]
  },
  {
   "cell_type": "markdown",
   "metadata": {},
   "source": [
    "## Question Analysis\n",
    "Count types of question in the dataset <br>\n",
    "**WH-Question**: What, Who, Whom, Whose, Which, When, Where, Why, How <br>\n",
    "**Aux-Question**: Do, Does, Did, Have, Has, Had, Is, Are, Was, Were"
   ]
  },
  {
   "cell_type": "code",
   "execution_count": 41,
   "metadata": {
    "collapsed": true
   },
   "outputs": [],
   "source": [
    "# WH-Question\n",
    "wh_list = [\n",
    "    'what', \n",
    "    'who', \n",
    "    'which', \n",
    "    'whom', \n",
    "    'where', \n",
    "    'when', \n",
    "    'whose', \n",
    "    'why', \n",
    "    'how'\n",
    "]\n",
    "\n",
    "# Do, Be, Has\n",
    "yes_no_list = [\n",
    "    'do',\n",
    "    'does',\n",
    "    'did',\n",
    "    'have',\n",
    "    'has',\n",
    "    'had',\n",
    "    'is',\n",
    "    'are',\n",
    "    'was',\n",
    "    'were'\n",
    "]\n",
    "\n",
    "def count_question(titles):\n",
    "    \n",
    "    ''' Count each type of questions '''\n",
    "    \n",
    "    wh_count = 0\n",
    "    yes_no_count = 0\n",
    "    for title in titles:\n",
    "        is_wh = False\n",
    "        token = title.split()[0]\n",
    "\n",
    "        if token in wh_list: \n",
    "            wh_count += 1\n",
    "        elif token in yes_no_list:\n",
    "            yes_no_count += 1\n",
    "    return wh_count, yes_no_count"
   ]
  },
  {
   "cell_type": "code",
   "execution_count": 43,
   "metadata": {},
   "outputs": [
    {
     "name": "stdout",
     "output_type": "stream",
     "text": [
      "WH-Question: 20\n",
      "Yes-No-Question: 6\n",
      "Total : 64\n"
     ]
    }
   ],
   "source": [
    "titles = df['Title']\n",
    "wh_count, yes_no_count = count_question(titles)\n",
    "total = len(titles)\n",
    "normal = total - wh_count - yes_no_count\n",
    "\n",
    "print (\"WH-Question: {}\".format(wh_count))\n",
    "print (\"Yes-No-Question: {}\".format(yes_no_count))\n",
    "print (\"Total : {}\".format(len(titles)))"
   ]
  },
  {
   "cell_type": "markdown",
   "metadata": {},
   "source": [
    "### Visualize the data into pie chart"
   ]
  },
  {
   "cell_type": "code",
   "execution_count": 44,
   "metadata": {},
   "outputs": [
    {
     "data": {
      "image/png": "[encoded data removed]",
      "text/plain": [
       "<matplotlib.figure.Figure at 0x10c50ba10>"
      ]
     },
     "metadata": {},
     "output_type": "display_data"
    }
   ],
   "source": [
    "import seaborn as sns\n",
    "\n",
    "sns.set(style=\"darkgrid\")\n",
    "fig1, ax1 = plt.subplots()\n",
    "\n",
    "def absolute_value(val):\n",
    "    a  = int(np.round(val/100.*total, 0))\n",
    "    return a\n",
    "\n",
    "sns.set()\n",
    "sns.set_palette(\"Blues\")\n",
    "\n",
    "ax1.pie(\n",
    "    [ wh_count, aux_count, normal], \n",
    "    labels=['wh-question', 'aux-question', 'normal'],\n",
    "    autopct=absolute_value\n",
    ")\n",
    "ax1.axis('equal')\n",
    "plt.show()\n",
    "fig1.savefig(os.path.join(save_dir, 'question_type_chart.png'), dpi=300)"
   ]
  },
  {
   "cell_type": "markdown",
   "metadata": {},
   "source": [
    "## Answer Analysis\n",
    "- Basic analysis for the length of the answer\n",
    "- Basic analysis with outlier removed\n",
    "- Outlier is when the value exceeds 1.5 IQR from Q3\n",
    "- Analysys the score of the answer"
   ]
  },
  {
   "cell_type": "markdown",
   "metadata": {},
   "source": [
    "Understanding the answer's score before removing the outlier"
   ]
  },
  {
   "cell_type": "code",
   "execution_count": 69,
   "metadata": {},
   "outputs": [
    {
     "data": {
      "image/png": "[encoded data removed]",
      "text/plain": [
       "<matplotlib.figure.Figure at 0x1a1697db90>"
      ]
     },
     "metadata": {},
     "output_type": "display_data"
    }
   ],
   "source": [
    "# Check how many answers per each score\n",
    "num_answers = []\n",
    "for i in range(13):\n",
    "    a_score = df['AnswerScore'] == i\n",
    "    num = a_score.sum()\n",
    "    num_answers.append(num)\n",
    "num_answers = [math.log(x+1) for x in num_answers]\n",
    "# print ([math.log(x) for x in num_answers])\n",
    "sns.set()\n",
    "sns.set_style(\"white\")\n",
    "sns.set_palette(\"hls\")\n",
    "fig, ax = plt.subplots()\n",
    "ax.bar(range(len(num_answers)), num_answers)\n",
    "sns.despine()\n",
    "ax.set_xlabel('Score')\n",
    "ax.set_ylabel('number of answers')\n",
    "plt.savefig(os.path.join(save_dir, 'hist_score.png'), dpi=300)\n",
    "\n",
    "# print (\"Number of Answer at Score: \")\n",
    "# for i, v in enumerate(num_answers):\n",
    "#     print (\"Score {}: {}\".format(i, v))"
   ]
  },
  {
   "cell_type": "code",
   "execution_count": 77,
   "metadata": {
    "collapsed": true
   },
   "outputs": [],
   "source": [
    "def get_arr_info(arr, column):\n",
    "    \n",
    "    \"\"\" Get info with graph about a column of DF \"\"\"\n",
    "    \n",
    "    # Describe overview of data\n",
    "    print (\"Overview (num tokens):\")\n",
    "    print (\"=========\")\n",
    "    print (arr.describe())\n",
    "    \n",
    "    # Box plot of the data\n",
    "    sns.set()\n",
    "    sns.set_style(\"whitegrid\")\n",
    "    sns.set_palette(\"BuGn_r\", 1)\n",
    "    plt.figure(figsize=(10,5))\n",
    "    \n",
    "    ax1= plt.subplot(1,2,1)\n",
    "    sns.boxplot(None, arr)\n",
    "    ax1.set_title(column + \" length (all)\")\n",
    "    ax1.set_ylabel('number of tokens')\n",
    "    \n",
    "    ax2= plt.subplot(1,2,2)\n",
    "    sns.boxplot(None, arr, showfliers=False)\n",
    "    ax2.set_title(column + \" length w/o upper outliers\")\n",
    "    ax2.set_ylabel('number of tokens')\n",
    "    \n",
    "    plt.suptitle(column + ' length')\n",
    "    plt.savefig(os.path.join(save_dir, 'boxplot_answer_length.png'), dpi=300)\n",
    "    plt.show() \n",
    "    \n",
    "    # Display Distrubtion of the data\n",
    "    \n",
    "    num_bins = 20\n",
    "#     arr = np.log(arr)\n",
    "    \n",
    "    sns.set()\n",
    "    sns.set_style(\"white\")\n",
    "    sns.set_palette(\"hls\")\n",
    "    plt.figure(figsize=(15,5))\n",
    "    \n",
    "    ax4 = plt.subplot(1,2,1)\n",
    "    ax4.hist(arr, bins=num_bins, alpha=1)\n",
    "    sns.despine()\n",
    "    ax4.set_xlabel(\"num of tokens\")\n",
    "    ax4.set_ylabel(\"num of \" + column)\n",
    "    \n",
    "    Q1 = arr.quantile(.25)\n",
    "    Q2 = arr.quantile(.5)\n",
    "    Q3 = arr.quantile(.75)\n",
    "    \n",
    "    IQR = Q3 - Q1\n",
    "    max_len = Q3 + IQR * 1.5\n",
    "    \n",
    "    ax5 = plt.subplot(1,2,2)\n",
    "    ax5.hist(arr, bins=num_bins, range=(0, max_len), alpha=1)\n",
    "    sns.despine()\n",
    "    ax5.set_xlabel(\"num of tokens\")\n",
    "    ax5.set_ylabel(\"num of \" + column)\n",
    "    \n",
    "    plt.suptitle(\"Distribution of Answer\\'s token\")\n",
    "    plt.savefig(os.path.join(save_dir, 'dist_answer_token.png'), dpi=300)\n",
    "    plt.show()\n",
    "    "
   ]
  },
  {
   "cell_type": "markdown",
   "metadata": {},
   "source": [
    "### Answer Analysis"
   ]
  },
  {
   "cell_type": "code",
   "execution_count": 78,
   "metadata": {},
   "outputs": [
    {
     "name": "stdout",
     "output_type": "stream",
     "text": [
      "Answer Length Analysis\n",
      "======================\n",
      "\n",
      "Overview (num tokens):\n",
      "=========\n",
      "count     64.000000\n",
      "mean     218.562500\n",
      "std      203.079692\n",
      "min       31.000000\n",
      "25%       66.000000\n",
      "50%      144.000000\n",
      "75%      309.000000\n",
      "max      944.000000\n",
      "Name: AnswerLength, dtype: float64\n"
     ]
    },
    {
     "data": {
      "image/png": "[encoded data removed]",
      "text/plain": [
       "<matplotlib.figure.Figure at 0x1a168b2710>"
      ]
     },
     "metadata": {},
     "output_type": "display_data"
    },
    {
     "data": {
      "image/png": "[encoded data removed]",
      "text/plain": [
       "<matplotlib.figure.Figure at 0x1a199fcd50>"
      ]
     },
     "metadata": {},
     "output_type": "display_data"
    }
   ],
   "source": [
    "print (\"Answer Length Analysis\")\n",
    "print (\"======================\\n\")\n",
    "get_arr_info(df['AnswerLength'], 'answers')"
   ]
  },
  {
   "cell_type": "markdown",
   "metadata": {},
   "source": [
    "### Title Analysis"
   ]
  },
  {
   "cell_type": "code",
   "execution_count": 79,
   "metadata": {},
   "outputs": [
    {
     "name": "stdout",
     "output_type": "stream",
     "text": [
      "Title Length Analysis\n",
      "======================\n",
      "\n",
      "Overview (num tokens):\n",
      "=========\n",
      "count    64.000000\n",
      "mean     10.875000\n",
      "std       4.916768\n",
      "min       2.000000\n",
      "25%       7.000000\n",
      "50%      10.000000\n",
      "75%      14.000000\n",
      "max      29.000000\n",
      "Name: TitleLength, dtype: float64\n"
     ]
    },
    {
     "data": {
      "image/png": "[encoded data removed]",
      "text/plain": [
       "<matplotlib.figure.Figure at 0x1a168b27d0>"
      ]
     },
     "metadata": {},
     "output_type": "display_data"
    },
    {
     "data": {
      "image/png": "[encoded data removed]",
      "text/plain": [
       "<matplotlib.figure.Figure at 0x1a19a96c90>"
      ]
     },
     "metadata": {},
     "output_type": "display_data"
    }
   ],
   "source": [
    "print (\"Title Length Analysis\")\n",
    "print (\"======================\\n\")\n",
    "get_arr_info(df['TitleLength'], 'titles')"
   ]
  },
  {
   "cell_type": "markdown",
   "metadata": {},
   "source": [
    "## Analysis of Tags\n",
    "Analyze the tag used in the question when people are posting problem"
   ]
  },
  {
   "cell_type": "code",
   "execution_count": 80,
   "metadata": {},
   "outputs": [
    {
     "ename": "NameError",
     "evalue": "name 'questions' is not defined",
     "output_type": "error",
     "traceback": [
      "\u001b[0;31m---------------------------------------------------------------------------\u001b[0m",
      "\u001b[0;31mNameError\u001b[0m                                 Traceback (most recent call last)",
      "\u001b[0;32m<ipython-input-80-ff6226e5158a>\u001b[0m in \u001b[0;36m<module>\u001b[0;34m()\u001b[0m\n\u001b[1;32m      1\u001b[0m \u001b[0mtags_dict\u001b[0m \u001b[0;34m=\u001b[0m \u001b[0;34m{\u001b[0m\u001b[0;34m}\u001b[0m\u001b[0;34m\u001b[0m\u001b[0m\n\u001b[0;32m----> 2\u001b[0;31m \u001b[0;32mfor\u001b[0m \u001b[0mtags\u001b[0m \u001b[0;32min\u001b[0m \u001b[0mquestions\u001b[0m\u001b[0;34m[\u001b[0m\u001b[0;34m'Tags'\u001b[0m\u001b[0;34m]\u001b[0m\u001b[0;34m:\u001b[0m\u001b[0;34m\u001b[0m\u001b[0m\n\u001b[0m\u001b[1;32m      3\u001b[0m     \u001b[0;32mfor\u001b[0m \u001b[0mt\u001b[0m \u001b[0;32min\u001b[0m \u001b[0mtags\u001b[0m\u001b[0;34m.\u001b[0m\u001b[0msplit\u001b[0m\u001b[0;34m(\u001b[0m\u001b[0;34m)\u001b[0m\u001b[0;34m:\u001b[0m\u001b[0;34m\u001b[0m\u001b[0m\n\u001b[1;32m      4\u001b[0m         \u001b[0;32mif\u001b[0m \u001b[0mt\u001b[0m \u001b[0;32mnot\u001b[0m \u001b[0;32min\u001b[0m \u001b[0mtags_dict\u001b[0m\u001b[0;34m:\u001b[0m\u001b[0;34m\u001b[0m\u001b[0m\n\u001b[1;32m      5\u001b[0m             \u001b[0mtags_dict\u001b[0m\u001b[0;34m[\u001b[0m\u001b[0mt\u001b[0m\u001b[0;34m]\u001b[0m \u001b[0;34m=\u001b[0m \u001b[0;36m0\u001b[0m\u001b[0;34m\u001b[0m\u001b[0m\n",
      "\u001b[0;31mNameError\u001b[0m: name 'questions' is not defined"
     ]
    }
   ],
   "source": [
    "tags_dict = {}\n",
    "for tags in questions['Tags']:\n",
    "    for t in tags.split():\n",
    "        if t not in tags_dict:\n",
    "            tags_dict[t] = 0\n",
    "        tags_dict[t] += 1"
   ]
  },
  {
   "cell_type": "code",
   "execution_count": 20,
   "metadata": {
    "collapsed": true
   },
   "outputs": [],
   "source": [
    "tags = sorted(tags_dict.items(), key=lambda x: x[1], reverse=True)"
   ]
  },
  {
   "cell_type": "code",
   "execution_count": 21,
   "metadata": {},
   "outputs": [
    {
     "name": "stdout",
     "output_type": "stream",
     "text": [
      "Vendor:  continuum\n",
      "Product: anaconda\n",
      "Message: trial mode expires in 26 days\n",
      "Collecting wordcloud\n",
      "\u001b[33m  Retrying (Retry(total=4, connect=None, read=None, redirect=None)) after connection broken by 'NewConnectionError('<pip._vendor.requests.packages.urllib3.connection.VerifiedHTTPSConnection object at 0x105b8d590>: Failed to establish a new connection: [Errno 8] nodename nor servname provided, or not known',)': /simple/wordcloud/\u001b[0m\n",
      "\u001b[33m  Retrying (Retry(total=3, connect=None, read=None, redirect=None)) after connection broken by 'NewConnectionError('<pip._vendor.requests.packages.urllib3.connection.VerifiedHTTPSConnection object at 0x105b8d950>: Failed to establish a new connection: [Errno 8] nodename nor servname provided, or not known',)': /simple/wordcloud/\u001b[0m\n",
      "\u001b[33m  Retrying (Retry(total=2, connect=None, read=None, redirect=None)) after connection broken by 'NewConnectionError('<pip._vendor.requests.packages.urllib3.connection.VerifiedHTTPSConnection object at 0x105d07a10>: Failed to establish a new connection: [Errno 8] nodename nor servname provided, or not known',)': /simple/wordcloud/\u001b[0m\n",
      "\u001b[33m  Retrying (Retry(total=1, connect=None, read=None, redirect=None)) after connection broken by 'NewConnectionError('<pip._vendor.requests.packages.urllib3.connection.VerifiedHTTPSConnection object at 0x105d07c50>: Failed to establish a new connection: [Errno 8] nodename nor servname provided, or not known',)': /simple/wordcloud/\u001b[0m\n",
      "\u001b[33m  Retrying (Retry(total=0, connect=None, read=None, redirect=None)) after connection broken by 'NewConnectionError('<pip._vendor.requests.packages.urllib3.connection.VerifiedHTTPSConnection object at 0x105d07d90>: Failed to establish a new connection: [Errno 8] nodename nor servname provided, or not known',)': /simple/wordcloud/\u001b[0m\n",
      "\u001b[31m  Could not find a version that satisfies the requirement wordcloud (from versions: )\u001b[0m\n",
      "\u001b[31mNo matching distribution found for wordcloud\u001b[0m\n"
     ]
    }
   ],
   "source": [
    "!pip install wordcloud"
   ]
  },
  {
   "cell_type": "code",
   "execution_count": 22,
   "metadata": {},
   "outputs": [
    {
     "ename": "ImportError",
     "evalue": "No module named wordcloud",
     "output_type": "error",
     "traceback": [
      "\u001b[0;31m---------------------------------------------------------------------------\u001b[0m",
      "\u001b[0;31mImportError\u001b[0m                               Traceback (most recent call last)",
      "\u001b[0;32m<ipython-input-22-6a81f7de80a9>\u001b[0m in \u001b[0;36m<module>\u001b[0;34m()\u001b[0m\n\u001b[0;32m----> 1\u001b[0;31m \u001b[0;32mfrom\u001b[0m \u001b[0mwordcloud\u001b[0m \u001b[0;32mimport\u001b[0m \u001b[0mWordCloud\u001b[0m\u001b[0;34m,\u001b[0m \u001b[0mSTOPWORDS\u001b[0m\u001b[0;34m,\u001b[0m \u001b[0mImageColorGenerator\u001b[0m\u001b[0;34m\u001b[0m\u001b[0m\n\u001b[0m\u001b[1;32m      2\u001b[0m \u001b[0;34m\u001b[0m\u001b[0m\n\u001b[1;32m      3\u001b[0m \u001b[0;31m# Create and generate a word cloud image:\u001b[0m\u001b[0;34m\u001b[0m\u001b[0;34m\u001b[0m\u001b[0m\n\u001b[1;32m      4\u001b[0m \u001b[0mwordcloud\u001b[0m \u001b[0;34m=\u001b[0m \u001b[0mWordCloud\u001b[0m\u001b[0;34m(\u001b[0m\u001b[0mwidth\u001b[0m\u001b[0;34m=\u001b[0m\u001b[0;36m1200\u001b[0m\u001b[0;34m,\u001b[0m \u001b[0mheight\u001b[0m\u001b[0;34m=\u001b[0m\u001b[0;36m700\u001b[0m\u001b[0;34m,\u001b[0m \u001b[0mmax_font_size\u001b[0m\u001b[0;34m=\u001b[0m\u001b[0;36m100\u001b[0m\u001b[0;34m,\u001b[0m \u001b[0mmax_words\u001b[0m\u001b[0;34m=\u001b[0m\u001b[0;36m100\u001b[0m\u001b[0;34m,\u001b[0m \u001b[0mbackground_color\u001b[0m\u001b[0;34m=\u001b[0m\u001b[0;34m\"white\"\u001b[0m\u001b[0;34m)\u001b[0m\u001b[0;34m\u001b[0m\u001b[0m\n\u001b[1;32m      5\u001b[0m \u001b[0mwordcloud\u001b[0m \u001b[0;34m=\u001b[0m \u001b[0mwordcloud\u001b[0m\u001b[0;34m.\u001b[0m\u001b[0mgenerate_from_frequencies\u001b[0m\u001b[0;34m(\u001b[0m\u001b[0mtags_dict\u001b[0m\u001b[0;34m)\u001b[0m\u001b[0;34m\u001b[0m\u001b[0m\n",
      "\u001b[0;31mImportError\u001b[0m: No module named wordcloud"
     ]
    }
   ],
   "source": [
    "from wordcloud import WordCloud, STOPWORDS, ImageColorGenerator\n",
    "\n",
    "# Create and generate a word cloud image:\n",
    "wordcloud = WordCloud(width=1200, height=700, max_font_size=100, max_words=100, background_color=\"white\")\n",
    "wordcloud = wordcloud.generate_from_frequencies(tags_dict)\n",
    "\n",
    "# Display the generated image:\n",
    "plt.figure(figsize=(12,7))\n",
    "plt.imshow(wordcloud, interpolation='bilinear')\n",
    "plt.axis(\"off\")\n",
    "plt.savefig('./wordcloud.png', dpi=600)\n",
    "plt.show()\n",
    "\n"
   ]
  },
  {
   "cell_type": "markdown",
   "metadata": {},
   "source": [
    "## Vocabulary Size"
   ]
  },
  {
   "cell_type": "code",
   "execution_count": 6,
   "metadata": {},
   "outputs": [
    {
     "name": "stdout",
     "output_type": "stream",
     "text": [
      "num of vocabs in question: 4829\n",
      "num of vocabs: 33588\n"
     ]
    }
   ],
   "source": [
    "vocab = {}\n",
    "\n",
    "# Get token from questions title\n",
    "for titles in questions['Title']:\n",
    "    for token in titles.split():\n",
    "        if token not in vocab:\n",
    "            vocab[token] = 0\n",
    "        vocab[token] += 1\n",
    "        \n",
    "print (\"num of vocabs in question: {}\".format(len(vocab)))\n",
    "\n",
    "# Get token from questions title\n",
    "for body in answers['Body']:\n",
    "    for token in body.split():\n",
    "        if token not in vocab:\n",
    "            vocab[token] = 0\n",
    "        vocab[token] += 1\n",
    "        \n",
    "print (\"num of vocabs: {}\".format(len(vocab)))\n",
    "        "
   ]
  },
  {
   "cell_type": "code",
   "execution_count": 8,
   "metadata": {
    "collapsed": true
   },
   "outputs": [],
   "source": [
    "vocab_arr = sorted(vocab.items(), key=lambda x: x[1], reverse=True)"
   ]
  },
  {
   "cell_type": "code",
   "execution_count": 20,
   "metadata": {},
   "outputs": [
    {
     "ename": "ValueError",
     "evalue": "unsupported pickle protocol: 3",
     "output_type": "error",
     "traceback": [
      "\u001b[0;31m---------------------------------------------------------------------------\u001b[0m",
      "\u001b[0;31mValueError\u001b[0m                                Traceback (most recent call last)",
      "\u001b[0;32m<ipython-input-20-1ee867799d39>\u001b[0m in \u001b[0;36m<module>\u001b[0;34m()\u001b[0m\n\u001b[1;32m      1\u001b[0m \u001b[0;32mimport\u001b[0m \u001b[0mpickle\u001b[0m\u001b[0;34m\u001b[0m\u001b[0m\n\u001b[1;32m      2\u001b[0m \u001b[0mf\u001b[0m \u001b[0;34m=\u001b[0m \u001b[0mopen\u001b[0m\u001b[0;34m(\u001b[0m\u001b[0;34m\"../outputs/ai.stackexchange.com/analysis.pickle\"\u001b[0m\u001b[0;34m,\u001b[0m \u001b[0;34m\"rb\"\u001b[0m\u001b[0;34m)\u001b[0m\u001b[0;34m\u001b[0m\u001b[0m\n\u001b[0;32m----> 3\u001b[0;31m \u001b[0mpickle\u001b[0m\u001b[0;34m.\u001b[0m\u001b[0mload\u001b[0m\u001b[0;34m(\u001b[0m\u001b[0mf\u001b[0m\u001b[0;34m)\u001b[0m\u001b[0;34m\u001b[0m\u001b[0m\n\u001b[0m",
      "\u001b[0;32m/anaconda2/lib/python2.7/pickle.pyc\u001b[0m in \u001b[0;36mload\u001b[0;34m(file)\u001b[0m\n\u001b[1;32m   1376\u001b[0m \u001b[0;34m\u001b[0m\u001b[0m\n\u001b[1;32m   1377\u001b[0m \u001b[0;32mdef\u001b[0m \u001b[0mload\u001b[0m\u001b[0;34m(\u001b[0m\u001b[0mfile\u001b[0m\u001b[0;34m)\u001b[0m\u001b[0;34m:\u001b[0m\u001b[0;34m\u001b[0m\u001b[0m\n\u001b[0;32m-> 1378\u001b[0;31m     \u001b[0;32mreturn\u001b[0m \u001b[0mUnpickler\u001b[0m\u001b[0;34m(\u001b[0m\u001b[0mfile\u001b[0m\u001b[0;34m)\u001b[0m\u001b[0;34m.\u001b[0m\u001b[0mload\u001b[0m\u001b[0;34m(\u001b[0m\u001b[0;34m)\u001b[0m\u001b[0;34m\u001b[0m\u001b[0m\n\u001b[0m\u001b[1;32m   1379\u001b[0m \u001b[0;34m\u001b[0m\u001b[0m\n\u001b[1;32m   1380\u001b[0m \u001b[0;32mdef\u001b[0m \u001b[0mloads\u001b[0m\u001b[0;34m(\u001b[0m\u001b[0mstr\u001b[0m\u001b[0;34m)\u001b[0m\u001b[0;34m:\u001b[0m\u001b[0;34m\u001b[0m\u001b[0m\n",
      "\u001b[0;32m/anaconda2/lib/python2.7/pickle.pyc\u001b[0m in \u001b[0;36mload\u001b[0;34m(self)\u001b[0m\n\u001b[1;32m    856\u001b[0m             \u001b[0;32mwhile\u001b[0m \u001b[0;36m1\u001b[0m\u001b[0;34m:\u001b[0m\u001b[0;34m\u001b[0m\u001b[0m\n\u001b[1;32m    857\u001b[0m                 \u001b[0mkey\u001b[0m \u001b[0;34m=\u001b[0m \u001b[0mread\u001b[0m\u001b[0;34m(\u001b[0m\u001b[0;36m1\u001b[0m\u001b[0;34m)\u001b[0m\u001b[0;34m\u001b[0m\u001b[0m\n\u001b[0;32m--> 858\u001b[0;31m                 \u001b[0mdispatch\u001b[0m\u001b[0;34m[\u001b[0m\u001b[0mkey\u001b[0m\u001b[0;34m]\u001b[0m\u001b[0;34m(\u001b[0m\u001b[0mself\u001b[0m\u001b[0;34m)\u001b[0m\u001b[0;34m\u001b[0m\u001b[0m\n\u001b[0m\u001b[1;32m    859\u001b[0m         \u001b[0;32mexcept\u001b[0m \u001b[0m_Stop\u001b[0m\u001b[0;34m,\u001b[0m \u001b[0mstopinst\u001b[0m\u001b[0;34m:\u001b[0m\u001b[0;34m\u001b[0m\u001b[0m\n\u001b[1;32m    860\u001b[0m             \u001b[0;32mreturn\u001b[0m \u001b[0mstopinst\u001b[0m\u001b[0;34m.\u001b[0m\u001b[0mvalue\u001b[0m\u001b[0;34m\u001b[0m\u001b[0m\n",
      "\u001b[0;32m/anaconda2/lib/python2.7/pickle.pyc\u001b[0m in \u001b[0;36mload_proto\u001b[0;34m(self)\u001b[0m\n\u001b[1;32m    884\u001b[0m         \u001b[0mproto\u001b[0m \u001b[0;34m=\u001b[0m \u001b[0mord\u001b[0m\u001b[0;34m(\u001b[0m\u001b[0mself\u001b[0m\u001b[0;34m.\u001b[0m\u001b[0mread\u001b[0m\u001b[0;34m(\u001b[0m\u001b[0;36m1\u001b[0m\u001b[0;34m)\u001b[0m\u001b[0;34m)\u001b[0m\u001b[0;34m\u001b[0m\u001b[0m\n\u001b[1;32m    885\u001b[0m         \u001b[0;32mif\u001b[0m \u001b[0;32mnot\u001b[0m \u001b[0;36m0\u001b[0m \u001b[0;34m<=\u001b[0m \u001b[0mproto\u001b[0m \u001b[0;34m<=\u001b[0m \u001b[0;36m2\u001b[0m\u001b[0;34m:\u001b[0m\u001b[0;34m\u001b[0m\u001b[0m\n\u001b[0;32m--> 886\u001b[0;31m             \u001b[0;32mraise\u001b[0m \u001b[0mValueError\u001b[0m\u001b[0;34m,\u001b[0m \u001b[0;34m\"unsupported pickle protocol: %d\"\u001b[0m \u001b[0;34m%\u001b[0m \u001b[0mproto\u001b[0m\u001b[0;34m\u001b[0m\u001b[0m\n\u001b[0m\u001b[1;32m    887\u001b[0m     \u001b[0mdispatch\u001b[0m\u001b[0;34m[\u001b[0m\u001b[0mPROTO\u001b[0m\u001b[0;34m]\u001b[0m \u001b[0;34m=\u001b[0m \u001b[0mload_proto\u001b[0m\u001b[0;34m\u001b[0m\u001b[0m\n\u001b[1;32m    888\u001b[0m \u001b[0;34m\u001b[0m\u001b[0m\n",
      "\u001b[0;31mValueError\u001b[0m: unsupported pickle protocol: 3"
     ]
    }
   ],
   "source": [
    "import pickle\n",
    "f = open(\"../outputs/ai.stackexchange.com/analysis.pickle\", \"rb\")\n",
    "pickle.load(f)"
   ]
  },
  {
   "cell_type": "code",
   "execution_count": 18,
   "metadata": {},
   "outputs": [
    {
     "data": {
      "text/plain": [
       "<open file '../outputs/ai.stackexchange.com/analysis.pickle', mode 'rb' at 0x10ab0b300>"
      ]
     },
     "execution_count": 18,
     "metadata": {},
     "output_type": "execute_result"
    }
   ],
   "source": [
    "file_dict"
   ]
  },
  {
   "cell_type": "code",
   "execution_count": null,
   "metadata": {
    "collapsed": true
   },
   "outputs": [],
   "source": [
    "vocab_arr[:40]"
   ]
  },
  {
   "cell_type": "code",
   "execution_count": null,
   "metadata": {
    "collapsed": true
   },
   "outputs": [],
   "source": [
    "sns.boxplot(None, vocab.values()[1000:])"
   ]
  },
  {
   "cell_type": "code",
   "execution_count": null,
   "metadata": {
    "collapsed": true
   },
   "outputs": [],
   "source": [
    "words = sorted(vocab.values(), reverse=True)"
   ]
  },
  {
   "cell_type": "code",
   "execution_count": null,
   "metadata": {
    "collapsed": true
   },
   "outputs": [],
   "source": [
    "\n",
    "plt.plot(words[900:1000])"
   ]
  },
  {
   "cell_type": "code",
   "execution_count": null,
   "metadata": {
    "collapsed": true
   },
   "outputs": [],
   "source": [
    "df_words = pd.DataFrame(words)\n",
    "df_words.describe()"
   ]
  },
  {
   "cell_type": "code",
   "execution_count": null,
   "metadata": {
    "collapsed": true
   },
   "outputs": [],
   "source": [
    "(df_words < 43).sum()"
   ]
  },
  {
   "cell_type": "code",
   "execution_count": null,
   "metadata": {
    "collapsed": true
   },
   "outputs": [],
   "source": [
    "(df_words < 10).sum()"
   ]
  },
  {
   "cell_type": "code",
   "execution_count": null,
   "metadata": {
    "collapsed": true
   },
   "outputs": [],
   "source": [
    "(df_words >= 43).sum()"
   ]
  },
  {
   "cell_type": "code",
   "execution_count": null,
   "metadata": {
    "collapsed": true
   },
   "outputs": [],
   "source": [
    "df_words[df_words < 43][40:60]"
   ]
  },
  {
   "cell_type": "code",
   "execution_count": null,
   "metadata": {
    "collapsed": true
   },
   "outputs": [],
   "source": [
    "(df_words < 1000).sum()"
   ]
  },
  {
   "cell_type": "code",
   "execution_count": null,
   "metadata": {
    "collapsed": true
   },
   "outputs": [],
   "source": [
    "vocab_arr[-500:]"
   ]
  },
  {
   "cell_type": "code",
   "execution_count": null,
   "metadata": {
    "collapsed": true
   },
   "outputs": [],
   "source": [
    "vocab_arr[50:100]"
   ]
  },
  {
   "cell_type": "code",
   "execution_count": null,
   "metadata": {
    "collapsed": true
   },
   "outputs": [],
   "source": [
    "df_words[5000:].hist(bins=30)"
   ]
  },
  {
   "cell_type": "code",
   "execution_count": null,
   "metadata": {
    "collapsed": true
   },
   "outputs": [],
   "source": [
    "df_words[5000:].plot()"
   ]
  },
  {
   "cell_type": "code",
   "execution_count": null,
   "metadata": {
    "collapsed": true
   },
   "outputs": [],
   "source": [
    "avg = df_words[:2000].mean().values[0]\n",
    "df_words[:2000].plot(kind='line', ylim=(0,avg))"
   ]
  },
  {
   "cell_type": "code",
   "execution_count": null,
   "metadata": {
    "collapsed": true
   },
   "outputs": [],
   "source": [
    "avg = df_words.mean().values[0]\n",
    "df_words.plot(kind='line', ylim=(0,avg))"
   ]
  },
  {
   "cell_type": "code",
   "execution_count": null,
   "metadata": {
    "collapsed": true
   },
   "outputs": [],
   "source": [
    "sorted(df_words.values())"
   ]
  },
  {
   "cell_type": "code",
   "execution_count": null,
   "metadata": {
    "collapsed": true
   },
   "outputs": [],
   "source": [
    "plt.plot(sorted(df_words.values))"
   ]
  },
  {
   "cell_type": "code",
   "execution_count": null,
   "metadata": {
    "collapsed": true
   },
   "outputs": [],
   "source": []
  }
 ],
 "metadata": {
  "kernelspec": {
   "display_name": "Python 2",
   "language": "python",
   "name": "python2"
  },
  "language_info": {
   "codemirror_mode": {
    "name": "ipython",
    "version": 2
   },
   "file_extension": ".py",
   "mimetype": "text/x-python",
   "name": "python",
   "nbconvert_exporter": "python",
   "pygments_lexer": "ipython2",
   "version": "2.7.3"
  }
 },
 "nbformat": 4,
 "nbformat_minor": 2
}
