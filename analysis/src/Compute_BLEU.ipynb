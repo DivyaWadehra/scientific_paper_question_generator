{
 "cells": [
  {
   "cell_type": "code",
   "execution_count": 26,
   "metadata": {},
   "outputs": [],
   "source": [
    "from bleu import compute_bleu\n",
    "from os import listdir\n",
    "from os.path import isfile, join"
   ]
  },
  {
   "cell_type": "code",
   "execution_count": 24,
   "metadata": {},
   "outputs": [
    {
     "data": {
      "text/plain": [
       "(0.0, [0.5, 0.5, 0.0, 0.0], 1.0, 1.3333333333333333, 4, 3)"
      ]
     },
     "execution_count": 24,
     "metadata": {},
     "output_type": "execute_result"
    }
   ],
   "source": [
    "references = [\n",
    "    [['hello', 'hi', 'hohoh']],\n",
    "    [[]]\n",
    "]\n",
    "hypothesis = [\n",
    "    ['hello', 'hi'],\n",
    "    ['a', 'x']\n",
    "]\n",
    "compute_bleu(references, hypothesis)"
   ]
  },
  {
   "cell_type": "code",
   "execution_count": 64,
   "metadata": {},
   "outputs": [],
   "source": [
    "# Reading reference file\n",
    "ref_file = open(\"../../data/clean/stackoverflow.com/test/targets.txt\", \"r\")\n",
    "references = [[line.split()] for line in ref_file.readlines()]"
   ]
  },
  {
   "cell_type": "code",
   "execution_count": 65,
   "metadata": {},
   "outputs": [],
   "source": [
    "path_01 = \"../../models/pointer_generator_network_tensorflow/results/decode_test_150maxenc_10beam_5mindec_15maxdec_ckpt-138727/decoded\"\n",
    "hyp_pgn_b1_files = [join(path_01, f) for f in listdir(path_01) if isfile(join(path_01, f))]\n",
    "hypothesis = []\n",
    "for f in hyp_pgn_b1_files:\n",
    "    file = open(f, \"r\")\n",
    "    hyp = [line.split() for line in file.readlines()]\n",
    "    hypothesis.append(hyp[0])  # there is only one line in the summary"
   ]
  },
  {
   "cell_type": "code",
   "execution_count": 66,
   "metadata": {},
   "outputs": [],
   "source": [
    "result = compute_bleu(references, hypothesis)"
   ]
  },
  {
   "cell_type": "code",
   "execution_count": 67,
   "metadata": {},
   "outputs": [
    {
     "name": "stdout",
     "output_type": "stream",
     "text": [
      "BLEU= 1.94, 14.7/3.1/0.9/0.4\n",
      "(BP=0.962, ratio=0.963, hyp_len=289739, ref_len=300993)\n"
     ]
    }
   ],
   "source": [
    "bleu, precision, bp, ratio, hypothesis_length, reference_length = result\n",
    "print (\"BLEU= {:.2f}, {:.1f}/{:.1f}/{:.1f}/{:.1f}\".format(\n",
    "            bleu * 100,\n",
    "            precision[0] * 100,\n",
    "            precision[1] * 100,\n",
    "            precision[2] * 100,\n",
    "            precision[3] * 100 ))\n",
    "print (\"(BP={:.3f}, ratio={:.3f}, hyp_len={}, ref_len={})\".format(\n",
    "    bp, ratio, hypothesis_length, reference_length\n",
    "))"
   ]
  },
  {
   "cell_type": "code",
   "execution_count": null,
   "metadata": {},
   "outputs": [],
   "source": []
  }
 ],
 "metadata": {
  "kernelspec": {
   "display_name": "Python 3",
   "language": "python",
   "name": "python3"
  },
  "language_info": {
   "codemirror_mode": {
    "name": "ipython",
    "version": 3
   },
   "file_extension": ".py",
   "mimetype": "text/x-python",
   "name": "python",
   "nbconvert_exporter": "python",
   "pygments_lexer": "ipython3",
   "version": "3.6.7"
  }
 },
 "nbformat": 4,
 "nbformat_minor": 2
}
