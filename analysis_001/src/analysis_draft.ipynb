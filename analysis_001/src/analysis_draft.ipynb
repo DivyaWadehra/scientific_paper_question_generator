{
 "cells": [
  {
   "cell_type": "code",
   "execution_count": 30,
   "metadata": {
    "collapsed": true
   },
   "outputs": [],
   "source": [
    "import pandas as pd\n",
    "import matplotlib.pyplot as plt\n",
    "\n",
    "% matplotlib inline"
   ]
  },
  {
   "cell_type": "code",
   "execution_count": 31,
   "metadata": {
    "collapsed": true
   },
   "outputs": [],
   "source": [
    "# Import data files\n",
    "questions = pd.read_csv('../data/ai.stackexchange.com_questions.csv')\n",
    "answers = pd.read_csv('../data/ai.stackexchange.com_answers.csv')"
   ]
  },
  {
   "cell_type": "markdown",
   "metadata": {},
   "source": [
    "## Question Analysis"
   ]
  },
  {
   "cell_type": "code",
   "execution_count": 32,
   "metadata": {},
   "outputs": [
    {
     "data": {
      "text/html": [
       "<div>\n",
       "<style>\n",
       "    .dataframe thead tr:only-child th {\n",
       "        text-align: right;\n",
       "    }\n",
       "\n",
       "    .dataframe thead th {\n",
       "        text-align: left;\n",
       "    }\n",
       "\n",
       "    .dataframe tbody tr th {\n",
       "        vertical-align: top;\n",
       "    }\n",
       "</style>\n",
       "<table border=\"1\" class=\"dataframe\">\n",
       "  <thead>\n",
       "    <tr style=\"text-align: right;\">\n",
       "      <th></th>\n",
       "      <th>Unnamed: 0</th>\n",
       "      <th>Id</th>\n",
       "      <th>PostTypeId</th>\n",
       "      <th>AcceptedAnswerId</th>\n",
       "      <th>CreationDate</th>\n",
       "      <th>Score</th>\n",
       "      <th>ViewCount</th>\n",
       "      <th>Body</th>\n",
       "      <th>OwnerUserId</th>\n",
       "      <th>LastEditorUserId</th>\n",
       "      <th>LastEditDate</th>\n",
       "      <th>LastActivityDate</th>\n",
       "      <th>Title</th>\n",
       "      <th>Tags</th>\n",
       "      <th>AnswerCount</th>\n",
       "      <th>CommentCount</th>\n",
       "      <th>FavoriteCount</th>\n",
       "    </tr>\n",
       "  </thead>\n",
       "  <tbody>\n",
       "    <tr>\n",
       "      <th>0</th>\n",
       "      <td>0</td>\n",
       "      <td>1</td>\n",
       "      <td>1</td>\n",
       "      <td>3.0</td>\n",
       "      <td>2016-08-02T15:39:14.947</td>\n",
       "      <td>8</td>\n",
       "      <td>384</td>\n",
       "      <td>what does \" backprop \" mean ? i 've googled it...</td>\n",
       "      <td>8.0</td>\n",
       "      <td>10135.0</td>\n",
       "      <td>2018-10-18T10:45:18.660</td>\n",
       "      <td>2018-10-18T10:45:18.660</td>\n",
       "      <td>what is \" backprop \" ?</td>\n",
       "      <td>neural-networks backpropagation terminology de...</td>\n",
       "      <td>3</td>\n",
       "      <td>3</td>\n",
       "      <td>1.0</td>\n",
       "    </tr>\n",
       "    <tr>\n",
       "      <th>1</th>\n",
       "      <td>1</td>\n",
       "      <td>2</td>\n",
       "      <td>1</td>\n",
       "      <td>9.0</td>\n",
       "      <td>2016-08-02T15:40:20.623</td>\n",
       "      <td>10</td>\n",
       "      <td>404</td>\n",
       "      <td>does increasing the noise in data help to impr...</td>\n",
       "      <td>8.0</td>\n",
       "      <td>2444.0</td>\n",
       "      <td>2019-02-23T22:36:19.090</td>\n",
       "      <td>2019-02-23T22:36:37.133</td>\n",
       "      <td>how does noise affect generalization ?</td>\n",
       "      <td>neural-networks machine-learning statistical-a...</td>\n",
       "      <td>3</td>\n",
       "      <td>0</td>\n",
       "      <td>1.0</td>\n",
       "    </tr>\n",
       "  </tbody>\n",
       "</table>\n",
       "</div>"
      ],
      "text/plain": [
       "   Unnamed: 0  Id  PostTypeId  AcceptedAnswerId             CreationDate  \\\n",
       "0           0   1           1               3.0  2016-08-02T15:39:14.947   \n",
       "1           1   2           1               9.0  2016-08-02T15:40:20.623   \n",
       "\n",
       "   Score  ViewCount                                               Body  \\\n",
       "0      8        384  what does \" backprop \" mean ? i 've googled it...   \n",
       "1     10        404  does increasing the noise in data help to impr...   \n",
       "\n",
       "   OwnerUserId  LastEditorUserId             LastEditDate  \\\n",
       "0          8.0           10135.0  2018-10-18T10:45:18.660   \n",
       "1          8.0            2444.0  2019-02-23T22:36:19.090   \n",
       "\n",
       "          LastActivityDate                                   Title  \\\n",
       "0  2018-10-18T10:45:18.660                  what is \" backprop \" ?   \n",
       "1  2019-02-23T22:36:37.133  how does noise affect generalization ?   \n",
       "\n",
       "                                                Tags  AnswerCount  \\\n",
       "0  neural-networks backpropagation terminology de...            3   \n",
       "1  neural-networks machine-learning statistical-a...            3   \n",
       "\n",
       "   CommentCount  FavoriteCount  \n",
       "0             3            1.0  \n",
       "1             0            1.0  "
      ]
     },
     "execution_count": 32,
     "metadata": {},
     "output_type": "execute_result"
    }
   ],
   "source": [
    "questions.head(2)"
   ]
  },
  {
   "cell_type": "code",
   "execution_count": 33,
   "metadata": {},
   "outputs": [
    {
     "data": {
      "text/html": [
       "<div>\n",
       "<style>\n",
       "    .dataframe thead tr:only-child th {\n",
       "        text-align: right;\n",
       "    }\n",
       "\n",
       "    .dataframe thead th {\n",
       "        text-align: left;\n",
       "    }\n",
       "\n",
       "    .dataframe tbody tr th {\n",
       "        vertical-align: top;\n",
       "    }\n",
       "</style>\n",
       "<table border=\"1\" class=\"dataframe\">\n",
       "  <thead>\n",
       "    <tr style=\"text-align: right;\">\n",
       "      <th></th>\n",
       "      <th>Unnamed: 0</th>\n",
       "      <th>Id</th>\n",
       "      <th>PostTypeId</th>\n",
       "      <th>AcceptedAnswerId</th>\n",
       "      <th>Score</th>\n",
       "      <th>ViewCount</th>\n",
       "      <th>OwnerUserId</th>\n",
       "      <th>LastEditorUserId</th>\n",
       "      <th>AnswerCount</th>\n",
       "      <th>CommentCount</th>\n",
       "      <th>FavoriteCount</th>\n",
       "    </tr>\n",
       "  </thead>\n",
       "  <tbody>\n",
       "    <tr>\n",
       "      <th>count</th>\n",
       "      <td>3784.000000</td>\n",
       "      <td>3784.000000</td>\n",
       "      <td>3784.0</td>\n",
       "      <td>1398.000000</td>\n",
       "      <td>3784.000000</td>\n",
       "      <td>3784.000000</td>\n",
       "      <td>3758.000000</td>\n",
       "      <td>2253.000000</td>\n",
       "      <td>3784.000000</td>\n",
       "      <td>3784.000000</td>\n",
       "      <td>1387.000000</td>\n",
       "    </tr>\n",
       "    <tr>\n",
       "      <th>mean</th>\n",
       "      <td>1891.500000</td>\n",
       "      <td>7118.663319</td>\n",
       "      <td>1.0</td>\n",
       "      <td>6441.515737</td>\n",
       "      <td>2.851744</td>\n",
       "      <td>425.033827</td>\n",
       "      <td>13410.406865</td>\n",
       "      <td>6995.483799</td>\n",
       "      <td>1.358351</td>\n",
       "      <td>1.518235</td>\n",
       "      <td>2.040375</td>\n",
       "    </tr>\n",
       "    <tr>\n",
       "      <th>std</th>\n",
       "      <td>1092.491037</td>\n",
       "      <td>3484.721586</td>\n",
       "      <td>0.0</td>\n",
       "      <td>3466.430116</td>\n",
       "      <td>4.557380</td>\n",
       "      <td>1586.971725</td>\n",
       "      <td>7642.479474</td>\n",
       "      <td>7267.456349</td>\n",
       "      <td>1.263999</td>\n",
       "      <td>2.213716</td>\n",
       "      <td>2.918288</td>\n",
       "    </tr>\n",
       "    <tr>\n",
       "      <th>min</th>\n",
       "      <td>0.000000</td>\n",
       "      <td>1.000000</td>\n",
       "      <td>1.0</td>\n",
       "      <td>3.000000</td>\n",
       "      <td>-6.000000</td>\n",
       "      <td>2.000000</td>\n",
       "      <td>4.000000</td>\n",
       "      <td>-1.000000</td>\n",
       "      <td>0.000000</td>\n",
       "      <td>0.000000</td>\n",
       "      <td>0.000000</td>\n",
       "    </tr>\n",
       "    <tr>\n",
       "      <th>25%</th>\n",
       "      <td>945.750000</td>\n",
       "      <td>4169.250000</td>\n",
       "      <td>1.0</td>\n",
       "      <td>3412.750000</td>\n",
       "      <td>1.000000</td>\n",
       "      <td>44.000000</td>\n",
       "      <td>7380.750000</td>\n",
       "      <td>1671.000000</td>\n",
       "      <td>1.000000</td>\n",
       "      <td>0.000000</td>\n",
       "      <td>1.000000</td>\n",
       "    </tr>\n",
       "    <tr>\n",
       "      <th>50%</th>\n",
       "      <td>1891.500000</td>\n",
       "      <td>7229.500000</td>\n",
       "      <td>1.0</td>\n",
       "      <td>6579.000000</td>\n",
       "      <td>2.000000</td>\n",
       "      <td>94.000000</td>\n",
       "      <td>14514.000000</td>\n",
       "      <td>2444.000000</td>\n",
       "      <td>1.000000</td>\n",
       "      <td>1.000000</td>\n",
       "      <td>1.000000</td>\n",
       "    </tr>\n",
       "    <tr>\n",
       "      <th>75%</th>\n",
       "      <td>2837.250000</td>\n",
       "      <td>10244.750000</td>\n",
       "      <td>1.0</td>\n",
       "      <td>9286.250000</td>\n",
       "      <td>4.000000</td>\n",
       "      <td>260.250000</td>\n",
       "      <td>19863.000000</td>\n",
       "      <td>10929.000000</td>\n",
       "      <td>2.000000</td>\n",
       "      <td>2.000000</td>\n",
       "      <td>2.000000</td>\n",
       "    </tr>\n",
       "    <tr>\n",
       "      <th>max</th>\n",
       "      <td>3783.000000</td>\n",
       "      <td>12642.000000</td>\n",
       "      <td>1.0</td>\n",
       "      <td>12641.000000</td>\n",
       "      <td>147.000000</td>\n",
       "      <td>37656.000000</td>\n",
       "      <td>26090.000000</td>\n",
       "      <td>25984.000000</td>\n",
       "      <td>16.000000</td>\n",
       "      <td>19.000000</td>\n",
       "      <td>55.000000</td>\n",
       "    </tr>\n",
       "  </tbody>\n",
       "</table>\n",
       "</div>"
      ],
      "text/plain": [
       "        Unnamed: 0            Id  PostTypeId  AcceptedAnswerId        Score  \\\n",
       "count  3784.000000   3784.000000      3784.0       1398.000000  3784.000000   \n",
       "mean   1891.500000   7118.663319         1.0       6441.515737     2.851744   \n",
       "std    1092.491037   3484.721586         0.0       3466.430116     4.557380   \n",
       "min       0.000000      1.000000         1.0          3.000000    -6.000000   \n",
       "25%     945.750000   4169.250000         1.0       3412.750000     1.000000   \n",
       "50%    1891.500000   7229.500000         1.0       6579.000000     2.000000   \n",
       "75%    2837.250000  10244.750000         1.0       9286.250000     4.000000   \n",
       "max    3783.000000  12642.000000         1.0      12641.000000   147.000000   \n",
       "\n",
       "          ViewCount   OwnerUserId  LastEditorUserId  AnswerCount  \\\n",
       "count   3784.000000   3758.000000       2253.000000  3784.000000   \n",
       "mean     425.033827  13410.406865       6995.483799     1.358351   \n",
       "std     1586.971725   7642.479474       7267.456349     1.263999   \n",
       "min        2.000000      4.000000         -1.000000     0.000000   \n",
       "25%       44.000000   7380.750000       1671.000000     1.000000   \n",
       "50%       94.000000  14514.000000       2444.000000     1.000000   \n",
       "75%      260.250000  19863.000000      10929.000000     2.000000   \n",
       "max    37656.000000  26090.000000      25984.000000    16.000000   \n",
       "\n",
       "       CommentCount  FavoriteCount  \n",
       "count   3784.000000    1387.000000  \n",
       "mean       1.518235       2.040375  \n",
       "std        2.213716       2.918288  \n",
       "min        0.000000       0.000000  \n",
       "25%        0.000000       1.000000  \n",
       "50%        1.000000       1.000000  \n",
       "75%        2.000000       2.000000  \n",
       "max       19.000000      55.000000  "
      ]
     },
     "execution_count": 33,
     "metadata": {},
     "output_type": "execute_result"
    }
   ],
   "source": [
    "questions.describe()"
   ]
  },
  {
   "cell_type": "code",
   "execution_count": 34,
   "metadata": {
    "scrolled": true
   },
   "outputs": [
    {
     "data": {
      "text/plain": [
       "3784"
      ]
     },
     "execution_count": 34,
     "metadata": {},
     "output_type": "execute_result"
    }
   ],
   "source": [
    "len(questions)"
   ]
  },
  {
   "cell_type": "code",
   "execution_count": 35,
   "metadata": {},
   "outputs": [
    {
     "name": "stdout",
     "output_type": "stream",
     "text": [
      "<class 'pandas.core.frame.DataFrame'>\n",
      "RangeIndex: 3784 entries, 0 to 3783\n",
      "Data columns (total 17 columns):\n",
      "Unnamed: 0          3784 non-null int64\n",
      "Id                  3784 non-null int64\n",
      "PostTypeId          3784 non-null int64\n",
      "AcceptedAnswerId    1398 non-null float64\n",
      "CreationDate        3784 non-null object\n",
      "Score               3784 non-null int64\n",
      "ViewCount           3784 non-null int64\n",
      "Body                3784 non-null object\n",
      "OwnerUserId         3758 non-null float64\n",
      "LastEditorUserId    2253 non-null float64\n",
      "LastEditDate        2264 non-null object\n",
      "LastActivityDate    3784 non-null object\n",
      "Title               3784 non-null object\n",
      "Tags                3784 non-null object\n",
      "AnswerCount         3784 non-null int64\n",
      "CommentCount        3784 non-null int64\n",
      "FavoriteCount       1387 non-null float64\n",
      "dtypes: float64(4), int64(7), object(6)\n",
      "memory usage: 502.6+ KB\n"
     ]
    }
   ],
   "source": [
    "questions.info()"
   ]
  },
  {
   "cell_type": "markdown",
   "metadata": {},
   "source": [
    "## Question with Score > 1"
   ]
  },
  {
   "cell_type": "code",
   "execution_count": 36,
   "metadata": {},
   "outputs": [
    {
     "data": {
      "text/plain": [
       "count    3784.000000\n",
       "mean        2.851744\n",
       "std         4.557380\n",
       "min        -6.000000\n",
       "25%         1.000000\n",
       "50%         2.000000\n",
       "75%         4.000000\n",
       "max       147.000000\n",
       "Name: Score, dtype: float64"
      ]
     },
     "execution_count": 36,
     "metadata": {},
     "output_type": "execute_result"
    }
   ],
   "source": [
    "questions['Score'].describe()"
   ]
  },
  {
   "cell_type": "code",
   "execution_count": 37,
   "metadata": {},
   "outputs": [
    {
     "data": {
      "text/plain": [
       "<matplotlib.axes._subplots.AxesSubplot at 0x116a4f250>"
      ]
     },
     "execution_count": 37,
     "metadata": {},
     "output_type": "execute_result"
    },
    {
     "data": {
      "image/png": "[encoded data removed]",
      "text/plain": [
       "<matplotlib.figure.Figure at 0x116a4bbd0>"
      ]
     },
     "metadata": {},
     "output_type": "display_data"
    }
   ],
   "source": [
    "questions.boxplot(column=['Score'])"
   ]
  },
  {
   "cell_type": "code",
   "execution_count": 38,
   "metadata": {},
   "outputs": [
    {
     "name": "stdout",
     "output_type": "stream",
     "text": [
      "# Question with Score gt 0: 1511\n",
      "# Question with Score 0: 2273\n"
     ]
    }
   ],
   "source": [
    "q_score = questions['Score'] > 2\n",
    "\n",
    "total = len(questions)\n",
    "count_q_score = q_score.sum()\n",
    "\n",
    "print (\"# Question with Score gt 0: {}\".format(count_q_score))\n",
    "print (\"# Question with Score 0: {}\".format(total - count_q_score))"
   ]
  },
  {
   "cell_type": "code",
   "execution_count": 39,
   "metadata": {
    "collapsed": true
   },
   "outputs": [],
   "source": [
    "# Check how many questions per each score\n",
    "num_questions = []\n",
    "for i in range(13):\n",
    "    q_score = questions['Score'] == i\n",
    "    num = q_score.sum()\n",
    "    num_questions.append(num)"
   ]
  },
  {
   "cell_type": "code",
   "execution_count": 40,
   "metadata": {},
   "outputs": [
    {
     "name": "stdout",
     "output_type": "stream",
     "text": [
      "('Num of questions: ', [517, 968, 686, 490, 343, 217, 130, 78, 49, 68, 36, 18, 16])\n"
     ]
    },
    {
     "data": {
      "image/png": "[encoded data removed]",
      "text/plain": [
       "<matplotlib.figure.Figure at 0x1066ff550>"
      ]
     },
     "metadata": {},
     "output_type": "display_data"
    }
   ],
   "source": [
    "fig, ax = plt.subplots()\n",
    "ax.bar(range(len(num_questions)), num_questions)\n",
    "print (\"Num of questions: \", num_questions)"
   ]
  },
  {
   "cell_type": "markdown",
   "metadata": {},
   "source": [
    "## Analysis of Question Length"
   ]
  },
  {
   "cell_type": "code",
   "execution_count": 41,
   "metadata": {
    "collapsed": true
   },
   "outputs": [],
   "source": [
    "def get_question_length(row):\n",
    "    q = row['Body']\n",
    "    return len(q.split())\n",
    "\n",
    "questions['QuestionLength'] = questions.apply(get_question_length, axis=1)"
   ]
  },
  {
   "cell_type": "code",
   "execution_count": 42,
   "metadata": {},
   "outputs": [
    {
     "data": {
      "text/plain": [
       "count    3784.000000\n",
       "mean      171.955338\n",
       "std       230.600541\n",
       "min         5.000000\n",
       "25%        65.000000\n",
       "50%       117.000000\n",
       "75%       205.000000\n",
       "max      7593.000000\n",
       "Name: QuestionLength, dtype: float64"
      ]
     },
     "execution_count": 42,
     "metadata": {},
     "output_type": "execute_result"
    }
   ],
   "source": [
    "questions.QuestionLength.describe()"
   ]
  },
  {
   "cell_type": "code",
   "execution_count": 43,
   "metadata": {},
   "outputs": [
    {
     "data": {
      "text/plain": [
       "<matplotlib.axes._subplots.AxesSubplot at 0x116a4f690>"
      ]
     },
     "execution_count": 43,
     "metadata": {},
     "output_type": "execute_result"
    },
    {
     "data": {
      "image/png": "[encoded data removed]",
      "text/plain": [
       "<matplotlib.figure.Figure at 0x10b792cd0>"
      ]
     },
     "metadata": {},
     "output_type": "display_data"
    }
   ],
   "source": [
    "questions.boxplot(column=['QuestionLength'])"
   ]
  },
  {
   "cell_type": "markdown",
   "metadata": {},
   "source": [
    "Remove the 90 percentile of data point"
   ]
  },
  {
   "cell_type": "code",
   "execution_count": 44,
   "metadata": {
    "collapsed": true
   },
   "outputs": [],
   "source": [
    "len_at_25 = questions.QuestionLength.quantile(.25)\n",
    "len_at_75 = questions.QuestionLength.quantile(.75)\n",
    "len_at_90 = questions.QuestionLength.quantile(.9)"
   ]
  },
  {
   "cell_type": "code",
   "execution_count": 45,
   "metadata": {},
   "outputs": [
    {
     "data": {
      "text/plain": [
       "<matplotlib.axes._subplots.AxesSubplot at 0x1066e5a10>"
      ]
     },
     "execution_count": 45,
     "metadata": {},
     "output_type": "execute_result"
    },
    {
     "data": {
      "image/png": "[encoded data removed]",
      "text/plain": [
       "<matplotlib.figure.Figure at 0x10b6f6250>"
      ]
     },
     "metadata": {},
     "output_type": "display_data"
    }
   ],
   "source": [
    "questions[questions['QuestionLength'] < len_at_90].boxplot(column=['QuestionLength'])\n"
   ]
  },
  {
   "cell_type": "code",
   "execution_count": 46,
   "metadata": {},
   "outputs": [
    {
     "data": {
      "text/plain": [
       "<matplotlib.axes._subplots.AxesSubplot at 0x10b5eb8d0>"
      ]
     },
     "execution_count": 46,
     "metadata": {},
     "output_type": "execute_result"
    },
    {
     "data": {
      "image/png": "[encoded data removed]",
      "text/plain": [
       "<matplotlib.figure.Figure at 0x10a64fcd0>"
      ]
     },
     "metadata": {},
     "output_type": "display_data"
    }
   ],
   "source": [
    "questions[(questions['QuestionLength'] >= len_at_25) & (questions['QuestionLength'] <= len_at_75)].boxplot(column=['QuestionLength'])"
   ]
  },
  {
   "cell_type": "markdown",
   "metadata": {},
   "source": [
    "## Analysis of Answer Length"
   ]
  },
  {
   "cell_type": "code",
   "execution_count": 47,
   "metadata": {},
   "outputs": [
    {
     "data": {
      "text/html": [
       "<div>\n",
       "<style>\n",
       "    .dataframe thead tr:only-child th {\n",
       "        text-align: right;\n",
       "    }\n",
       "\n",
       "    .dataframe thead th {\n",
       "        text-align: left;\n",
       "    }\n",
       "\n",
       "    .dataframe tbody tr th {\n",
       "        vertical-align: top;\n",
       "    }\n",
       "</style>\n",
       "<table border=\"1\" class=\"dataframe\">\n",
       "  <thead>\n",
       "    <tr style=\"text-align: right;\">\n",
       "      <th></th>\n",
       "      <th>Unnamed: 0</th>\n",
       "      <th>Id</th>\n",
       "      <th>PostTypeId</th>\n",
       "      <th>ParentId</th>\n",
       "      <th>CreationDate</th>\n",
       "      <th>Score</th>\n",
       "      <th>Body</th>\n",
       "      <th>OwnerUserId</th>\n",
       "      <th>LastActivityDate</th>\n",
       "      <th>CommentCount</th>\n",
       "    </tr>\n",
       "  </thead>\n",
       "  <tbody>\n",
       "    <tr>\n",
       "      <th>0</th>\n",
       "      <td>0</td>\n",
       "      <td>3</td>\n",
       "      <td>2</td>\n",
       "      <td>1.0</td>\n",
       "      <td>2016-08-02T15:40:24.820</td>\n",
       "      <td>12</td>\n",
       "      <td>\" backprop \" is the same as \" backpropagation ...</td>\n",
       "      <td>4.0</td>\n",
       "      <td>2016-08-02T15:40:24.820</td>\n",
       "      <td>0</td>\n",
       "    </tr>\n",
       "    <tr>\n",
       "      <th>1</th>\n",
       "      <td>1</td>\n",
       "      <td>8</td>\n",
       "      <td>2</td>\n",
       "      <td>5.0</td>\n",
       "      <td>2016-08-02T15:45:48.597</td>\n",
       "      <td>2</td>\n",
       "      <td>you can use python - ev3 which can be used to ...</td>\n",
       "      <td>8.0</td>\n",
       "      <td>2016-08-02T15:45:48.597</td>\n",
       "      <td>0</td>\n",
       "    </tr>\n",
       "  </tbody>\n",
       "</table>\n",
       "</div>"
      ],
      "text/plain": [
       "   Unnamed: 0  Id  PostTypeId  ParentId             CreationDate  Score  \\\n",
       "0           0   3           2       1.0  2016-08-02T15:40:24.820     12   \n",
       "1           1   8           2       5.0  2016-08-02T15:45:48.597      2   \n",
       "\n",
       "                                                Body  OwnerUserId  \\\n",
       "0  \" backprop \" is the same as \" backpropagation ...          4.0   \n",
       "1  you can use python - ev3 which can be used to ...          8.0   \n",
       "\n",
       "          LastActivityDate  CommentCount  \n",
       "0  2016-08-02T15:40:24.820             0  \n",
       "1  2016-08-02T15:45:48.597             0  "
      ]
     },
     "execution_count": 47,
     "metadata": {},
     "output_type": "execute_result"
    }
   ],
   "source": [
    "answers.head(2)"
   ]
  },
  {
   "cell_type": "code",
   "execution_count": 48,
   "metadata": {},
   "outputs": [
    {
     "data": {
      "text/html": [
       "<div>\n",
       "<style>\n",
       "    .dataframe thead tr:only-child th {\n",
       "        text-align: right;\n",
       "    }\n",
       "\n",
       "    .dataframe thead th {\n",
       "        text-align: left;\n",
       "    }\n",
       "\n",
       "    .dataframe tbody tr th {\n",
       "        vertical-align: top;\n",
       "    }\n",
       "</style>\n",
       "<table border=\"1\" class=\"dataframe\">\n",
       "  <thead>\n",
       "    <tr style=\"text-align: right;\">\n",
       "      <th></th>\n",
       "      <th>Unnamed: 0</th>\n",
       "      <th>Id</th>\n",
       "      <th>PostTypeId</th>\n",
       "      <th>ParentId</th>\n",
       "      <th>Score</th>\n",
       "      <th>OwnerUserId</th>\n",
       "      <th>CommentCount</th>\n",
       "    </tr>\n",
       "  </thead>\n",
       "  <tbody>\n",
       "    <tr>\n",
       "      <th>count</th>\n",
       "      <td>5919.000000</td>\n",
       "      <td>5919.000000</td>\n",
       "      <td>5919.000000</td>\n",
       "      <td>5140.000000</td>\n",
       "      <td>5919.000000</td>\n",
       "      <td>5903.000000</td>\n",
       "      <td>5919.000000</td>\n",
       "    </tr>\n",
       "    <tr>\n",
       "      <th>mean</th>\n",
       "      <td>2959.000000</td>\n",
       "      <td>6631.236526</td>\n",
       "      <td>2.330292</td>\n",
       "      <td>6055.369844</td>\n",
       "      <td>1.686096</td>\n",
       "      <td>7930.805692</td>\n",
       "      <td>0.956918</td>\n",
       "    </tr>\n",
       "    <tr>\n",
       "      <th>std</th>\n",
       "      <td>1708.812453</td>\n",
       "      <td>3398.275985</td>\n",
       "      <td>0.869412</td>\n",
       "      <td>3447.176529</td>\n",
       "      <td>3.298201</td>\n",
       "      <td>7043.152486</td>\n",
       "      <td>1.886704</td>\n",
       "    </tr>\n",
       "    <tr>\n",
       "      <th>min</th>\n",
       "      <td>0.000000</td>\n",
       "      <td>3.000000</td>\n",
       "      <td>2.000000</td>\n",
       "      <td>1.000000</td>\n",
       "      <td>-4.000000</td>\n",
       "      <td>-1.000000</td>\n",
       "      <td>0.000000</td>\n",
       "    </tr>\n",
       "    <tr>\n",
       "      <th>25%</th>\n",
       "      <td>1479.500000</td>\n",
       "      <td>3796.500000</td>\n",
       "      <td>2.000000</td>\n",
       "      <td>3114.000000</td>\n",
       "      <td>0.000000</td>\n",
       "      <td>1847.000000</td>\n",
       "      <td>0.000000</td>\n",
       "    </tr>\n",
       "    <tr>\n",
       "      <th>50%</th>\n",
       "      <td>2959.000000</td>\n",
       "      <td>6623.000000</td>\n",
       "      <td>2.000000</td>\n",
       "      <td>5840.000000</td>\n",
       "      <td>1.000000</td>\n",
       "      <td>5095.000000</td>\n",
       "      <td>0.000000</td>\n",
       "    </tr>\n",
       "    <tr>\n",
       "      <th>75%</th>\n",
       "      <td>4438.500000</td>\n",
       "      <td>9490.000000</td>\n",
       "      <td>2.000000</td>\n",
       "      <td>8908.000000</td>\n",
       "      <td>2.000000</td>\n",
       "      <td>12509.000000</td>\n",
       "      <td>1.000000</td>\n",
       "    </tr>\n",
       "    <tr>\n",
       "      <th>max</th>\n",
       "      <td>5918.000000</td>\n",
       "      <td>12643.000000</td>\n",
       "      <td>7.000000</td>\n",
       "      <td>12639.000000</td>\n",
       "      <td>124.000000</td>\n",
       "      <td>26079.000000</td>\n",
       "      <td>21.000000</td>\n",
       "    </tr>\n",
       "  </tbody>\n",
       "</table>\n",
       "</div>"
      ],
      "text/plain": [
       "        Unnamed: 0            Id   PostTypeId      ParentId        Score  \\\n",
       "count  5919.000000   5919.000000  5919.000000   5140.000000  5919.000000   \n",
       "mean   2959.000000   6631.236526     2.330292   6055.369844     1.686096   \n",
       "std    1708.812453   3398.275985     0.869412   3447.176529     3.298201   \n",
       "min       0.000000      3.000000     2.000000      1.000000    -4.000000   \n",
       "25%    1479.500000   3796.500000     2.000000   3114.000000     0.000000   \n",
       "50%    2959.000000   6623.000000     2.000000   5840.000000     1.000000   \n",
       "75%    4438.500000   9490.000000     2.000000   8908.000000     2.000000   \n",
       "max    5918.000000  12643.000000     7.000000  12639.000000   124.000000   \n",
       "\n",
       "        OwnerUserId  CommentCount  \n",
       "count   5903.000000   5919.000000  \n",
       "mean    7930.805692      0.956918  \n",
       "std     7043.152486      1.886704  \n",
       "min       -1.000000      0.000000  \n",
       "25%     1847.000000      0.000000  \n",
       "50%     5095.000000      0.000000  \n",
       "75%    12509.000000      1.000000  \n",
       "max    26079.000000     21.000000  "
      ]
     },
     "execution_count": 48,
     "metadata": {},
     "output_type": "execute_result"
    }
   ],
   "source": [
    "answers.describe()"
   ]
  },
  {
   "cell_type": "code",
   "execution_count": 59,
   "metadata": {},
   "outputs": [],
   "source": [
    "def get_answer_length(row):\n",
    "    a = row['Body']\n",
    "    return len(a.split())\n",
    "\n",
    "answers.dropna(inplace=True)\n",
    "answers['AnswerLength'] = answers.apply(get_answer_length, axis=1)"
   ]
  },
  {
   "cell_type": "code",
   "execution_count": 61,
   "metadata": {},
   "outputs": [
    {
     "data": {
      "text/plain": [
       "count    5126.000000\n",
       "mean      265.281116\n",
       "std       281.157038\n",
       "min         7.000000\n",
       "25%       100.000000\n",
       "50%       182.000000\n",
       "75%       328.000000\n",
       "max      3529.000000\n",
       "Name: AnswerLength, dtype: float64"
      ]
     },
     "execution_count": 61,
     "metadata": {},
     "output_type": "execute_result"
    }
   ],
   "source": [
    "answers.AnswerLength.describe()"
   ]
  },
  {
   "cell_type": "code",
   "execution_count": 62,
   "metadata": {},
   "outputs": [
    {
     "data": {
      "text/plain": [
       "<matplotlib.axes._subplots.AxesSubplot at 0x10ad4e650>"
      ]
     },
     "execution_count": 62,
     "metadata": {},
     "output_type": "execute_result"
    },
    {
     "data": {
      "image/png": "[encoded data removed]",
      "text/plain": [
       "<matplotlib.figure.Figure at 0x10ad4ef50>"
      ]
     },
     "metadata": {},
     "output_type": "display_data"
    }
   ],
   "source": [
    "answers.boxplot(column=['AnswerLength'])"
   ]
  },
  {
   "cell_type": "code",
   "execution_count": 63,
   "metadata": {
    "collapsed": true
   },
   "outputs": [],
   "source": [
    "len_at_25 = answers.AnswerLength.quantile(.25)\n",
    "len_at_75 = answers.AnswerLength.quantile(.75)\n",
    "len_at_90 = answers.AnswerLength.quantile(.9)"
   ]
  },
  {
   "cell_type": "code",
   "execution_count": 65,
   "metadata": {},
   "outputs": [
    {
     "data": {
      "text/plain": [
       "<matplotlib.axes._subplots.AxesSubplot at 0x10aeb6750>"
      ]
     },
     "execution_count": 65,
     "metadata": {},
     "output_type": "execute_result"
    },
    {
     "data": {
      "image/png": "[encoded data removed]",
      "text/plain": [
       "<matplotlib.figure.Figure at 0x10c8316d0>"
      ]
     },
     "metadata": {},
     "output_type": "display_data"
    }
   ],
   "source": [
    "answers[answers['AnswerLength'] < len_at_90].boxplot(column=['AnswerLength'])"
   ]
  },
  {
   "cell_type": "code",
   "execution_count": 66,
   "metadata": {},
   "outputs": [
    {
     "data": {
      "text/plain": [
       "<matplotlib.axes._subplots.AxesSubplot at 0x10c831950>"
      ]
     },
     "execution_count": 66,
     "metadata": {},
     "output_type": "execute_result"
    },
    {
     "data": {
      "image/png": "[encoded data removed]",
      "text/plain": [
       "<matplotlib.figure.Figure at 0x10ae65a50>"
      ]
     },
     "metadata": {},
     "output_type": "display_data"
    }
   ],
   "source": [
    "answers[(answers['AnswerLength'] >= len_at_25) & (answers['AnswerLength'] <= len_at_75)].boxplot(column=['AnswerLength'])"
   ]
  },
  {
   "cell_type": "code",
   "execution_count": 68,
   "metadata": {},
   "outputs": [
    {
     "data": {
      "text/plain": [
       "<matplotlib.axes._subplots.AxesSubplot at 0x10ae6b0d0>"
      ]
     },
     "execution_count": 68,
     "metadata": {},
     "output_type": "execute_result"
    },
    {
     "data": {
      "image/png": "[encoded data removed]",
      "text/plain": [
       "<matplotlib.figure.Figure at 0x10ae8e2d0>"
      ]
     },
     "metadata": {},
     "output_type": "display_data"
    }
   ],
   "source": [
    "iqr = len_at_75 - len_at_25\n",
    "max_len = iqr * 1.5\n",
    "answers[answers['AnswerLength'] < max_len].boxplot(column=['AnswerLength'])"
   ]
  },
  {
   "cell_type": "code",
   "execution_count": 70,
   "metadata": {},
   "outputs": [
    {
     "data": {
      "text/plain": [
       "count    3926.000000\n",
       "mean      152.322975\n",
       "std        85.396434\n",
       "min         7.000000\n",
       "25%        82.000000\n",
       "50%       138.000000\n",
       "75%       217.000000\n",
       "max       341.000000\n",
       "Name: AnswerLength, dtype: float64"
      ]
     },
     "execution_count": 70,
     "metadata": {},
     "output_type": "execute_result"
    }
   ],
   "source": [
    "answers[answers['AnswerLength'] < max_len]['AnswerLength'].describe()"
   ]
  },
  {
   "cell_type": "markdown",
   "metadata": {},
   "source": [
    "## Count WH-Question"
   ]
  },
  {
   "cell_type": "code",
   "execution_count": 72,
   "metadata": {},
   "outputs": [],
   "source": [
    "titles = questions['Title']"
   ]
  },
  {
   "cell_type": "code",
   "execution_count": 77,
   "metadata": {},
   "outputs": [],
   "source": [
    "# WH-Question\n",
    "wh_list = [\n",
    "    'what', \n",
    "    'who', \n",
    "    'which', \n",
    "    'whom', \n",
    "    'where', \n",
    "    'when', \n",
    "    'whose', \n",
    "    'why', \n",
    "    'how'\n",
    "]\n",
    "\n",
    "# Do, Be, Has\n",
    "aux_list = [\n",
    "    'do',\n",
    "    'does',\n",
    "    'did',\n",
    "    'have',\n",
    "    'has',\n",
    "    'had',\n",
    "    'is',\n",
    "    'are',\n",
    "    'was',\n",
    "    'were'\n",
    "]"
   ]
  },
  {
   "cell_type": "code",
   "execution_count": 91,
   "metadata": {},
   "outputs": [],
   "source": [
    "def count_question(titles):\n",
    "    wh_count = 0\n",
    "    aux_count = 0\n",
    "    for title in titles:\n",
    "        is_wh = False\n",
    "        token = title.split()[0]\n",
    "\n",
    "        if token in wh_list: \n",
    "            wh_count += 1\n",
    "        elif token in aux_list:\n",
    "            aux_count += 1\n",
    "    return wh_count, aux_count"
   ]
  },
  {
   "cell_type": "code",
   "execution_count": 97,
   "metadata": {},
   "outputs": [
    {
     "name": "stdout",
     "output_type": "stream",
     "text": [
      "WH-Question: 1474\n",
      "AUX-Question: 473\n",
      "Total : 3784\n"
     ]
    }
   ],
   "source": [
    "wh_count, aux_count = count_question(titles)\n",
    "total = len(titles)\n",
    "normal = total - wh_count - aux_count\n",
    "\n",
    "print (\"WH-Question: {}\".format(wh_count))\n",
    "print (\"AUX-Question: {}\".format(aux_count))\n",
    "print (\"Total : {}\".format(len(titles)))"
   ]
  },
  {
   "cell_type": "code",
   "execution_count": 93,
   "metadata": {
    "collapsed": true
   },
   "outputs": [],
   "source": [
    "import seaborn as sns"
   ]
  },
  {
   "cell_type": "code",
   "execution_count": 100,
   "metadata": {},
   "outputs": [
    {
     "data": {
      "image/png": "[encoded data removed]",
      "text/plain": [
       "<matplotlib.figure.Figure at 0x1a18772650>"
      ]
     },
     "metadata": {},
     "output_type": "display_data"
    }
   ],
   "source": [
    "fig1, ax1 = plt.subplots()\n",
    "ax1.pie([wh_count, aux_count, normal], labels=['wh-question', 'aux-question', 'normal'],autopct='%1.1f%%', shadow=True)\n",
    "ax1.axis('equal')\n",
    "plt.show()"
   ]
  },
  {
   "cell_type": "code",
   "execution_count": null,
   "metadata": {
    "collapsed": true
   },
   "outputs": [],
   "source": []
  }
 ],
 "metadata": {
  "kernelspec": {
   "display_name": "Python 2",
   "language": "python",
   "name": "python2"
  },
  "language_info": {
   "codemirror_mode": {
    "name": "ipython",
    "version": 2
   },
   "file_extension": ".py",
   "mimetype": "text/x-python",
   "name": "python",
   "nbconvert_exporter": "python",
   "pygments_lexer": "ipython2",
   "version": "2.7.3"
  }
 },
 "nbformat": 4,
 "nbformat_minor": 2
}
