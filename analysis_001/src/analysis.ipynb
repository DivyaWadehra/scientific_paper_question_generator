{
 "cells": [
  {
   "cell_type": "code",
   "execution_count": 1,
   "metadata": {
    "collapsed": true
   },
   "outputs": [],
   "source": [
    "import pandas as pd\n",
    "import numpy as np\n",
    "import os\n",
    "import matplotlib.pyplot as plt\n",
    "\n",
    "% matplotlib inline"
   ]
  },
  {
   "cell_type": "code",
   "execution_count": 2,
   "metadata": {
    "collapsed": true
   },
   "outputs": [],
   "source": [
    "\n",
    "# Import data files\n",
    "questions = pd.read_csv('../data/ai.stackexchange.com_questions.csv')\n",
    "answers = pd.read_csv('../data/ai.stackexchange.com_answers.csv')\n",
    "\n",
    "# questions = pd.read_csv('../data/cs.stackexchange.com_questions.csv')\n",
    "# answers = pd.read_csv('../data/cs.stackexchange.com_answers.csv')\n",
    "\n",
    "save_dir = \"../figures/\"\n",
    "name = \"cs.stackexchange.com\"\n",
    "save_dir = os.path.join(save_dir, name)\n",
    "\n",
    "if not os.path.exists(save_dir):\n",
    "    os.mkdir(save_dir)\n",
    "    print(\"Directory \" , save_dir ,  \" Created \") \n",
    "# save_dir = os.path.join(save_dir, name)"
   ]
  },
  {
   "cell_type": "markdown",
   "metadata": {},
   "source": [
    "## Preparing the data\n",
    "\n",
    "Read in the question and answer files.\n"
   ]
  },
  {
   "cell_type": "code",
   "execution_count": 3,
   "metadata": {
    "collapsed": true
   },
   "outputs": [],
   "source": [
    "def get_answer_length(row):\n",
    "    a = row['Body']\n",
    "    return len(a.split())\n",
    "\n",
    "answers.dropna(subset=['Body'], inplace=True)\n",
    "answers['AnswerLength'] = answers.apply(get_answer_length, axis=1)\n",
    "\n",
    "def get_title_length(row):\n",
    "    a = row['Title']\n",
    "    return len(a.split())\n",
    "questions.dropna(subset=['Title'], inplace=True)\n",
    "questions['TitleLength'] = questions.apply(get_title_length, axis=1)"
   ]
  },
  {
   "cell_type": "markdown",
   "metadata": {},
   "source": [
    "## Question Analysis\n",
    "Count types of question in the dataset <br>\n",
    "**WH-Question**: What, Who, Whom, Whose, Which, When, Where, Why, How <br>\n",
    "**Aux-Question**: Do, Does, Did, Have, Has, Had, Is, Are, Was, Were"
   ]
  },
  {
   "cell_type": "code",
   "execution_count": 4,
   "metadata": {
    "collapsed": true
   },
   "outputs": [],
   "source": [
    "# WH-Question\n",
    "wh_list = [\n",
    "    'what', \n",
    "    'who', \n",
    "    'which', \n",
    "    'whom', \n",
    "    'where', \n",
    "    'when', \n",
    "    'whose', \n",
    "    'why', \n",
    "    'how'\n",
    "]\n",
    "\n",
    "# Do, Be, Has\n",
    "aux_list = [\n",
    "    'do',\n",
    "    'does',\n",
    "    'did',\n",
    "    'have',\n",
    "    'has',\n",
    "    'had',\n",
    "    'is',\n",
    "    'are',\n",
    "    'was',\n",
    "    'were'\n",
    "]\n",
    "\n",
    "def count_question(titles):\n",
    "    \n",
    "    ''' Count each type of questions '''\n",
    "    \n",
    "    wh_count = 0\n",
    "    aux_count = 0\n",
    "    for title in titles:\n",
    "        is_wh = False\n",
    "        token = title.split()[0]\n",
    "\n",
    "        if token in wh_list: \n",
    "            wh_count += 1\n",
    "        elif token in aux_list:\n",
    "            aux_count += 1\n",
    "        else:\n",
    "            \n",
    "            print (title)\n",
    "            break\n",
    "    return wh_count, aux_count"
   ]
  },
  {
   "cell_type": "code",
   "execution_count": 5,
   "metadata": {},
   "outputs": [
    {
     "name": "stdout",
     "output_type": "stream",
     "text": [
      "on the intelligent agent definition of intelligence\n",
      "WH-Question: 4\n",
      "AUX-Question: 0\n",
      "Total : 3784\n"
     ]
    }
   ],
   "source": [
    "titles = questions['Title']\n",
    "wh_count, aux_count = count_question(titles)\n",
    "total = len(titles)\n",
    "normal = total - wh_count - aux_count\n",
    "\n",
    "print (\"WH-Question: {}\".format(wh_count))\n",
    "print (\"AUX-Question: {}\".format(aux_count))\n",
    "print (\"Total : {}\".format(len(titles)))"
   ]
  },
  {
   "cell_type": "markdown",
   "metadata": {},
   "source": [
    "### Visualize the data into pie chart"
   ]
  },
  {
   "cell_type": "code",
   "execution_count": 14,
   "metadata": {},
   "outputs": [
    {
     "data": {
      "image/png": "[encoded data removed]",
      "text/plain": [
       "<matplotlib.figure.Figure at 0x10ec4b1d0>"
      ]
     },
     "metadata": {},
     "output_type": "display_data"
    }
   ],
   "source": [
    "import seaborn as sns\n",
    "\n",
    "sns.set(style=\"darkgrid\")\n",
    "fig1, ax1 = plt.subplots()\n",
    "\n",
    "def absolute_value(val):\n",
    "    a  = int(np.round(val/100.*total, 0))\n",
    "    return a\n",
    "\n",
    "sns.set()\n",
    "sns.set_palette(\"Blues\")\n",
    "\n",
    "ax1.pie(\n",
    "    [ wh_count, aux_count, normal], \n",
    "    labels=['wh-question', 'aux-question', 'normal'],\n",
    "    autopct=absolute_value\n",
    ")\n",
    "ax1.axis('equal')\n",
    "plt.show()\n",
    "fig1.savefig(os.path.join(save_dir, 'question_type_chart.png'), dpi=300)"
   ]
  },
  {
   "cell_type": "markdown",
   "metadata": {},
   "source": [
    "## Answer Analysis\n",
    "- Basic analysis for the length of the answer\n",
    "- Basic analysis with outlier removed\n",
    "- Outlier is when the value exceeds 1.5 IQR from Q3\n",
    "- Analysys the score of the answer"
   ]
  },
  {
   "cell_type": "markdown",
   "metadata": {},
   "source": [
    "Understanding the answer's score before removing the outlier"
   ]
  },
  {
   "cell_type": "code",
   "execution_count": 15,
   "metadata": {},
   "outputs": [
    {
     "name": "stdout",
     "output_type": "stream",
     "text": [
      "Number of Answer at Score: \n",
      "Score 0: 4995\n",
      "Score 1: 9085\n",
      "Score 2: 6970\n",
      "Score 3: 4702\n",
      "Score 4: 3026\n",
      "Score 5: 1974\n",
      "Score 6: 1286\n",
      "Score 7: 922\n",
      "Score 8: 628\n",
      "Score 9: 447\n",
      "Score 10: 368\n",
      "Score 11: 273\n",
      "Score 12: 203\n"
     ]
    },
    {
     "data": {
      "image/png": "[encoded data removed]",
      "text/plain": [
       "<matplotlib.figure.Figure at 0x1117eca50>"
      ]
     },
     "metadata": {},
     "output_type": "display_data"
    }
   ],
   "source": [
    "# Check how many answers per each score\n",
    "num_answers = []\n",
    "for i in range(13):\n",
    "    a_score = answers['Score'] == i\n",
    "    num = a_score.sum()\n",
    "    num_answers.append(num)\n",
    "\n",
    "sns.set()\n",
    "sns.set_style(\"white\")\n",
    "sns.set_palette(\"hls\")\n",
    "fig, ax = plt.subplots()\n",
    "ax.bar(range(len(num_answers)), num_answers)\n",
    "sns.despine()\n",
    "ax.set_xlabel('Score')\n",
    "ax.set_ylabel('number of answers')\n",
    "plt.savefig(os.path.join(save_dir, 'hist_score.png'), dpi=300)\n",
    "\n",
    "print (\"Number of Answer at Score: \")\n",
    "for i, v in enumerate(num_answers):\n",
    "    print (\"Score {}: {}\".format(i, v))"
   ]
  },
  {
   "cell_type": "code",
   "execution_count": 16,
   "metadata": {
    "collapsed": true
   },
   "outputs": [],
   "source": [
    "def get_arr_info(arr, column):\n",
    "    \n",
    "    \"\"\" Get info with graph about a column of DF \"\"\"\n",
    "    \n",
    "    # Describe overview of data\n",
    "    print (\"Overview (num tokens):\")\n",
    "    print (\"=========\")\n",
    "    print (arr.describe())\n",
    "    \n",
    "    # Box plot of the data\n",
    "    sns.set()\n",
    "    sns.set_style(\"whitegrid\")\n",
    "    sns.set_palette(\"BuGn_r\", 1)\n",
    "    plt.figure(figsize=(10,5))\n",
    "    \n",
    "    ax1= plt.subplot(1,2,1)\n",
    "    sns.boxplot(None, arr)\n",
    "    ax1.set_title(column + \" length (all)\")\n",
    "    ax1.set_ylabel('number of tokens')\n",
    "    \n",
    "    ax2= plt.subplot(1,2,2)\n",
    "    sns.boxplot(None, arr, showfliers=False)\n",
    "    ax2.set_title(column + \" length w/o upper outliers\")\n",
    "    ax2.set_ylabel('number of tokens')\n",
    "    \n",
    "    plt.suptitle(column + ' length')\n",
    "    plt.savefig(os.path.join(save_dir, 'boxplot_answer_length.png'), dpi=300)\n",
    "    plt.show() \n",
    "    \n",
    "    # Display Distrubtion of the data\n",
    "    \n",
    "    num_bins = 20\n",
    "    \n",
    "    sns.set()\n",
    "    sns.set_style(\"white\")\n",
    "    sns.set_palette(\"hls\")\n",
    "    plt.figure(figsize=(15,5))\n",
    "    \n",
    "    ax4 = plt.subplot(1,2,1)\n",
    "    ax4.hist(arr, bins=num_bins, alpha=1)\n",
    "    sns.despine()\n",
    "    ax4.set_xlabel(\"num of tokens\")\n",
    "    ax4.set_ylabel(\"num of \" + column)\n",
    "    \n",
    "    Q1 = arr.quantile(.25)\n",
    "    Q2 = arr.quantile(.5)\n",
    "    Q3 = arr.quantile(.75)\n",
    "    \n",
    "    IQR = Q3 - Q1\n",
    "    max_len = Q3 + IQR * 1.5\n",
    "    \n",
    "    ax5 = plt.subplot(1,2,2)\n",
    "    ax5.hist(arr, bins=num_bins, range=(0, max_len), alpha=1)\n",
    "    sns.despine()\n",
    "    ax5.set_xlabel(\"num of tokens\")\n",
    "    ax5.set_ylabel(\"num of \" + column)\n",
    "    \n",
    "    plt.suptitle(\"Distribution of Answer\\'s token\")\n",
    "    plt.savefig(os.path.join(save_dir, 'dist_answer_token.png'), dpi=300)\n",
    "    plt.show()\n",
    "    "
   ]
  },
  {
   "cell_type": "markdown",
   "metadata": {},
   "source": [
    "### Answer Analysis"
   ]
  },
  {
   "cell_type": "code",
   "execution_count": 23,
   "metadata": {},
   "outputs": [
    {
     "name": "stdout",
     "output_type": "stream",
     "text": [
      "Answer Length Analysis\n",
      "======================\n",
      "\n",
      "Overview (num tokens):\n",
      "=========\n",
      "count    37131.000000\n",
      "mean       213.959441\n",
      "std        224.614432\n",
      "min          2.000000\n",
      "25%         84.000000\n",
      "50%        153.000000\n",
      "75%        268.000000\n",
      "max       7271.000000\n",
      "Name: AnswerLength, dtype: float64\n"
     ]
    },
    {
     "data": {
      "image/png": "[encoded data removed]",
      "text/plain": [
       "<matplotlib.figure.Figure at 0x10fd94210>"
      ]
     },
     "metadata": {},
     "output_type": "display_data"
    },
    {
     "data": {
      "image/png": "[encoded data removed]",
      "text/plain": [
       "<matplotlib.figure.Figure at 0x106a9e810>"
      ]
     },
     "metadata": {},
     "output_type": "display_data"
    }
   ],
   "source": [
    "print (\"Answer Length Analysis\")\n",
    "print (\"======================\\n\")\n",
    "get_arr_info(answers.AnswerLength, 'answers')"
   ]
  },
  {
   "cell_type": "markdown",
   "metadata": {},
   "source": [
    "### Title Analysis"
   ]
  },
  {
   "cell_type": "code",
   "execution_count": 18,
   "metadata": {},
   "outputs": [
    {
     "name": "stdout",
     "output_type": "stream",
     "text": [
      "Title Length Analysis\n",
      "======================\n",
      "\n",
      "Overview (num tokens):\n",
      "=========\n",
      "count    30756.000000\n",
      "mean        10.384088\n",
      "std          4.942682\n",
      "min          1.000000\n",
      "25%          7.000000\n",
      "50%         10.000000\n",
      "75%         13.000000\n",
      "max         45.000000\n",
      "Name: TitleLength, dtype: float64\n"
     ]
    },
    {
     "data": {
      "image/png": "[encoded data removed]",
      "text/plain": [
       "<matplotlib.figure.Figure at 0x1117ecb10>"
      ]
     },
     "metadata": {},
     "output_type": "display_data"
    },
    {
     "data": {
      "image/png": "[encoded data removed]",
      "text/plain": [
       "<matplotlib.figure.Figure at 0x10fbf0c10>"
      ]
     },
     "metadata": {},
     "output_type": "display_data"
    }
   ],
   "source": [
    "print (\"Title Length Analysis\")\n",
    "print (\"======================\\n\")\n",
    "get_arr_info(questions.TitleLength, 'titles')"
   ]
  },
  {
   "cell_type": "markdown",
   "metadata": {},
   "source": [
    "## Analysis of Tags\n",
    "Analyze the tag used in the question when people are posting problem"
   ]
  },
  {
   "cell_type": "code",
   "execution_count": 19,
   "metadata": {
    "collapsed": true
   },
   "outputs": [],
   "source": [
    "tags_dict = {}\n",
    "for tags in questions['Tags']:\n",
    "    for t in tags.split():\n",
    "        if t not in tags_dict:\n",
    "            tags_dict[t] = 0\n",
    "        tags_dict[t] += 1"
   ]
  },
  {
   "cell_type": "code",
   "execution_count": 20,
   "metadata": {
    "collapsed": true
   },
   "outputs": [],
   "source": [
    "tags = sorted(tags_dict.items(), key=lambda x: x[1], reverse=True)"
   ]
  },
  {
   "cell_type": "code",
   "execution_count": 21,
   "metadata": {},
   "outputs": [
    {
     "name": "stdout",
     "output_type": "stream",
     "text": [
      "Vendor:  continuum\n",
      "Product: anaconda\n",
      "Message: trial mode expires in 26 days\n",
      "Collecting wordcloud\n",
      "\u001b[33m  Retrying (Retry(total=4, connect=None, read=None, redirect=None)) after connection broken by 'NewConnectionError('<pip._vendor.requests.packages.urllib3.connection.VerifiedHTTPSConnection object at 0x105b8d590>: Failed to establish a new connection: [Errno 8] nodename nor servname provided, or not known',)': /simple/wordcloud/\u001b[0m\n",
      "\u001b[33m  Retrying (Retry(total=3, connect=None, read=None, redirect=None)) after connection broken by 'NewConnectionError('<pip._vendor.requests.packages.urllib3.connection.VerifiedHTTPSConnection object at 0x105b8d950>: Failed to establish a new connection: [Errno 8] nodename nor servname provided, or not known',)': /simple/wordcloud/\u001b[0m\n",
      "\u001b[33m  Retrying (Retry(total=2, connect=None, read=None, redirect=None)) after connection broken by 'NewConnectionError('<pip._vendor.requests.packages.urllib3.connection.VerifiedHTTPSConnection object at 0x105d07a10>: Failed to establish a new connection: [Errno 8] nodename nor servname provided, or not known',)': /simple/wordcloud/\u001b[0m\n",
      "\u001b[33m  Retrying (Retry(total=1, connect=None, read=None, redirect=None)) after connection broken by 'NewConnectionError('<pip._vendor.requests.packages.urllib3.connection.VerifiedHTTPSConnection object at 0x105d07c50>: Failed to establish a new connection: [Errno 8] nodename nor servname provided, or not known',)': /simple/wordcloud/\u001b[0m\n",
      "\u001b[33m  Retrying (Retry(total=0, connect=None, read=None, redirect=None)) after connection broken by 'NewConnectionError('<pip._vendor.requests.packages.urllib3.connection.VerifiedHTTPSConnection object at 0x105d07d90>: Failed to establish a new connection: [Errno 8] nodename nor servname provided, or not known',)': /simple/wordcloud/\u001b[0m\n",
      "\u001b[31m  Could not find a version that satisfies the requirement wordcloud (from versions: )\u001b[0m\n",
      "\u001b[31mNo matching distribution found for wordcloud\u001b[0m\n"
     ]
    }
   ],
   "source": [
    "!pip install wordcloud"
   ]
  },
  {
   "cell_type": "code",
   "execution_count": 22,
   "metadata": {},
   "outputs": [
    {
     "ename": "ImportError",
     "evalue": "No module named wordcloud",
     "output_type": "error",
     "traceback": [
      "\u001b[0;31m---------------------------------------------------------------------------\u001b[0m",
      "\u001b[0;31mImportError\u001b[0m                               Traceback (most recent call last)",
      "\u001b[0;32m<ipython-input-22-6a81f7de80a9>\u001b[0m in \u001b[0;36m<module>\u001b[0;34m()\u001b[0m\n\u001b[0;32m----> 1\u001b[0;31m \u001b[0;32mfrom\u001b[0m \u001b[0mwordcloud\u001b[0m \u001b[0;32mimport\u001b[0m \u001b[0mWordCloud\u001b[0m\u001b[0;34m,\u001b[0m \u001b[0mSTOPWORDS\u001b[0m\u001b[0;34m,\u001b[0m \u001b[0mImageColorGenerator\u001b[0m\u001b[0;34m\u001b[0m\u001b[0m\n\u001b[0m\u001b[1;32m      2\u001b[0m \u001b[0;34m\u001b[0m\u001b[0m\n\u001b[1;32m      3\u001b[0m \u001b[0;31m# Create and generate a word cloud image:\u001b[0m\u001b[0;34m\u001b[0m\u001b[0;34m\u001b[0m\u001b[0m\n\u001b[1;32m      4\u001b[0m \u001b[0mwordcloud\u001b[0m \u001b[0;34m=\u001b[0m \u001b[0mWordCloud\u001b[0m\u001b[0;34m(\u001b[0m\u001b[0mwidth\u001b[0m\u001b[0;34m=\u001b[0m\u001b[0;36m1200\u001b[0m\u001b[0;34m,\u001b[0m \u001b[0mheight\u001b[0m\u001b[0;34m=\u001b[0m\u001b[0;36m700\u001b[0m\u001b[0;34m,\u001b[0m \u001b[0mmax_font_size\u001b[0m\u001b[0;34m=\u001b[0m\u001b[0;36m100\u001b[0m\u001b[0;34m,\u001b[0m \u001b[0mmax_words\u001b[0m\u001b[0;34m=\u001b[0m\u001b[0;36m100\u001b[0m\u001b[0;34m,\u001b[0m \u001b[0mbackground_color\u001b[0m\u001b[0;34m=\u001b[0m\u001b[0;34m\"white\"\u001b[0m\u001b[0;34m)\u001b[0m\u001b[0;34m\u001b[0m\u001b[0m\n\u001b[1;32m      5\u001b[0m \u001b[0mwordcloud\u001b[0m \u001b[0;34m=\u001b[0m \u001b[0mwordcloud\u001b[0m\u001b[0;34m.\u001b[0m\u001b[0mgenerate_from_frequencies\u001b[0m\u001b[0;34m(\u001b[0m\u001b[0mtags_dict\u001b[0m\u001b[0;34m)\u001b[0m\u001b[0;34m\u001b[0m\u001b[0m\n",
      "\u001b[0;31mImportError\u001b[0m: No module named wordcloud"
     ]
    }
   ],
   "source": [
    "from wordcloud import WordCloud, STOPWORDS, ImageColorGenerator\n",
    "\n",
    "# Create and generate a word cloud image:\n",
    "wordcloud = WordCloud(width=1200, height=700, max_font_size=100, max_words=100, background_color=\"white\")\n",
    "wordcloud = wordcloud.generate_from_frequencies(tags_dict)\n",
    "\n",
    "# Display the generated image:\n",
    "plt.figure(figsize=(12,7))\n",
    "plt.imshow(wordcloud, interpolation='bilinear')\n",
    "plt.axis(\"off\")\n",
    "plt.savefig('./wordcloud.png', dpi=600)\n",
    "plt.show()\n",
    "\n"
   ]
  },
  {
   "cell_type": "markdown",
   "metadata": {},
   "source": [
    "## Vocabulary Size"
   ]
  },
  {
   "cell_type": "code",
   "execution_count": 6,
   "metadata": {},
   "outputs": [
    {
     "name": "stdout",
     "output_type": "stream",
     "text": [
      "num of vocabs in question: 4829\n",
      "num of vocabs: 33588\n"
     ]
    }
   ],
   "source": [
    "vocab = {}\n",
    "\n",
    "# Get token from questions title\n",
    "for titles in questions['Title']:\n",
    "    for token in titles.split():\n",
    "        if token not in vocab:\n",
    "            vocab[token] = 0\n",
    "        vocab[token] += 1\n",
    "        \n",
    "print (\"num of vocabs in question: {}\".format(len(vocab)))\n",
    "\n",
    "# Get token from questions title\n",
    "for body in answers['Body']:\n",
    "    for token in body.split():\n",
    "        if token not in vocab:\n",
    "            vocab[token] = 0\n",
    "        vocab[token] += 1\n",
    "        \n",
    "print (\"num of vocabs: {}\".format(len(vocab)))\n",
    "        "
   ]
  },
  {
   "cell_type": "code",
   "execution_count": 8,
   "metadata": {
    "collapsed": true
   },
   "outputs": [],
   "source": [
    "vocab_arr = sorted(vocab.items(), key=lambda x: x[1], reverse=True)"
   ]
  },
  {
   "cell_type": "code",
   "execution_count": 20,
   "metadata": {},
   "outputs": [
    {
     "ename": "ValueError",
     "evalue": "unsupported pickle protocol: 3",
     "output_type": "error",
     "traceback": [
      "\u001b[0;31m---------------------------------------------------------------------------\u001b[0m",
      "\u001b[0;31mValueError\u001b[0m                                Traceback (most recent call last)",
      "\u001b[0;32m<ipython-input-20-1ee867799d39>\u001b[0m in \u001b[0;36m<module>\u001b[0;34m()\u001b[0m\n\u001b[1;32m      1\u001b[0m \u001b[0;32mimport\u001b[0m \u001b[0mpickle\u001b[0m\u001b[0;34m\u001b[0m\u001b[0m\n\u001b[1;32m      2\u001b[0m \u001b[0mf\u001b[0m \u001b[0;34m=\u001b[0m \u001b[0mopen\u001b[0m\u001b[0;34m(\u001b[0m\u001b[0;34m\"../outputs/ai.stackexchange.com/analysis.pickle\"\u001b[0m\u001b[0;34m,\u001b[0m \u001b[0;34m\"rb\"\u001b[0m\u001b[0;34m)\u001b[0m\u001b[0;34m\u001b[0m\u001b[0m\n\u001b[0;32m----> 3\u001b[0;31m \u001b[0mpickle\u001b[0m\u001b[0;34m.\u001b[0m\u001b[0mload\u001b[0m\u001b[0;34m(\u001b[0m\u001b[0mf\u001b[0m\u001b[0;34m)\u001b[0m\u001b[0;34m\u001b[0m\u001b[0m\n\u001b[0m",
      "\u001b[0;32m/anaconda2/lib/python2.7/pickle.pyc\u001b[0m in \u001b[0;36mload\u001b[0;34m(file)\u001b[0m\n\u001b[1;32m   1376\u001b[0m \u001b[0;34m\u001b[0m\u001b[0m\n\u001b[1;32m   1377\u001b[0m \u001b[0;32mdef\u001b[0m \u001b[0mload\u001b[0m\u001b[0;34m(\u001b[0m\u001b[0mfile\u001b[0m\u001b[0;34m)\u001b[0m\u001b[0;34m:\u001b[0m\u001b[0;34m\u001b[0m\u001b[0m\n\u001b[0;32m-> 1378\u001b[0;31m     \u001b[0;32mreturn\u001b[0m \u001b[0mUnpickler\u001b[0m\u001b[0;34m(\u001b[0m\u001b[0mfile\u001b[0m\u001b[0;34m)\u001b[0m\u001b[0;34m.\u001b[0m\u001b[0mload\u001b[0m\u001b[0;34m(\u001b[0m\u001b[0;34m)\u001b[0m\u001b[0;34m\u001b[0m\u001b[0m\n\u001b[0m\u001b[1;32m   1379\u001b[0m \u001b[0;34m\u001b[0m\u001b[0m\n\u001b[1;32m   1380\u001b[0m \u001b[0;32mdef\u001b[0m \u001b[0mloads\u001b[0m\u001b[0;34m(\u001b[0m\u001b[0mstr\u001b[0m\u001b[0;34m)\u001b[0m\u001b[0;34m:\u001b[0m\u001b[0;34m\u001b[0m\u001b[0m\n",
      "\u001b[0;32m/anaconda2/lib/python2.7/pickle.pyc\u001b[0m in \u001b[0;36mload\u001b[0;34m(self)\u001b[0m\n\u001b[1;32m    856\u001b[0m             \u001b[0;32mwhile\u001b[0m \u001b[0;36m1\u001b[0m\u001b[0;34m:\u001b[0m\u001b[0;34m\u001b[0m\u001b[0m\n\u001b[1;32m    857\u001b[0m                 \u001b[0mkey\u001b[0m \u001b[0;34m=\u001b[0m \u001b[0mread\u001b[0m\u001b[0;34m(\u001b[0m\u001b[0;36m1\u001b[0m\u001b[0;34m)\u001b[0m\u001b[0;34m\u001b[0m\u001b[0m\n\u001b[0;32m--> 858\u001b[0;31m                 \u001b[0mdispatch\u001b[0m\u001b[0;34m[\u001b[0m\u001b[0mkey\u001b[0m\u001b[0;34m]\u001b[0m\u001b[0;34m(\u001b[0m\u001b[0mself\u001b[0m\u001b[0;34m)\u001b[0m\u001b[0;34m\u001b[0m\u001b[0m\n\u001b[0m\u001b[1;32m    859\u001b[0m         \u001b[0;32mexcept\u001b[0m \u001b[0m_Stop\u001b[0m\u001b[0;34m,\u001b[0m \u001b[0mstopinst\u001b[0m\u001b[0;34m:\u001b[0m\u001b[0;34m\u001b[0m\u001b[0m\n\u001b[1;32m    860\u001b[0m             \u001b[0;32mreturn\u001b[0m \u001b[0mstopinst\u001b[0m\u001b[0;34m.\u001b[0m\u001b[0mvalue\u001b[0m\u001b[0;34m\u001b[0m\u001b[0m\n",
      "\u001b[0;32m/anaconda2/lib/python2.7/pickle.pyc\u001b[0m in \u001b[0;36mload_proto\u001b[0;34m(self)\u001b[0m\n\u001b[1;32m    884\u001b[0m         \u001b[0mproto\u001b[0m \u001b[0;34m=\u001b[0m \u001b[0mord\u001b[0m\u001b[0;34m(\u001b[0m\u001b[0mself\u001b[0m\u001b[0;34m.\u001b[0m\u001b[0mread\u001b[0m\u001b[0;34m(\u001b[0m\u001b[0;36m1\u001b[0m\u001b[0;34m)\u001b[0m\u001b[0;34m)\u001b[0m\u001b[0;34m\u001b[0m\u001b[0m\n\u001b[1;32m    885\u001b[0m         \u001b[0;32mif\u001b[0m \u001b[0;32mnot\u001b[0m \u001b[0;36m0\u001b[0m \u001b[0;34m<=\u001b[0m \u001b[0mproto\u001b[0m \u001b[0;34m<=\u001b[0m \u001b[0;36m2\u001b[0m\u001b[0;34m:\u001b[0m\u001b[0;34m\u001b[0m\u001b[0m\n\u001b[0;32m--> 886\u001b[0;31m             \u001b[0;32mraise\u001b[0m \u001b[0mValueError\u001b[0m\u001b[0;34m,\u001b[0m \u001b[0;34m\"unsupported pickle protocol: %d\"\u001b[0m \u001b[0;34m%\u001b[0m \u001b[0mproto\u001b[0m\u001b[0;34m\u001b[0m\u001b[0m\n\u001b[0m\u001b[1;32m    887\u001b[0m     \u001b[0mdispatch\u001b[0m\u001b[0;34m[\u001b[0m\u001b[0mPROTO\u001b[0m\u001b[0;34m]\u001b[0m \u001b[0;34m=\u001b[0m \u001b[0mload_proto\u001b[0m\u001b[0;34m\u001b[0m\u001b[0m\n\u001b[1;32m    888\u001b[0m \u001b[0;34m\u001b[0m\u001b[0m\n",
      "\u001b[0;31mValueError\u001b[0m: unsupported pickle protocol: 3"
     ]
    }
   ],
   "source": [
    "import pickle\n",
    "f = open(\"../outputs/ai.stackexchange.com/analysis.pickle\", \"rb\")\n",
    "pickle.load(f)"
   ]
  },
  {
   "cell_type": "code",
   "execution_count": 18,
   "metadata": {},
   "outputs": [
    {
     "data": {
      "text/plain": [
       "<open file '../outputs/ai.stackexchange.com/analysis.pickle', mode 'rb' at 0x10ab0b300>"
      ]
     },
     "execution_count": 18,
     "metadata": {},
     "output_type": "execute_result"
    }
   ],
   "source": [
    "file_dict"
   ]
  },
  {
   "cell_type": "code",
   "execution_count": null,
   "metadata": {
    "collapsed": true
   },
   "outputs": [],
   "source": [
    "vocab_arr[:40]"
   ]
  },
  {
   "cell_type": "code",
   "execution_count": null,
   "metadata": {
    "collapsed": true
   },
   "outputs": [],
   "source": [
    "sns.boxplot(None, vocab.values()[1000:])"
   ]
  },
  {
   "cell_type": "code",
   "execution_count": null,
   "metadata": {
    "collapsed": true
   },
   "outputs": [],
   "source": [
    "words = sorted(vocab.values(), reverse=True)"
   ]
  },
  {
   "cell_type": "code",
   "execution_count": null,
   "metadata": {
    "collapsed": true
   },
   "outputs": [],
   "source": [
    "\n",
    "plt.plot(words[900:1000])"
   ]
  },
  {
   "cell_type": "code",
   "execution_count": null,
   "metadata": {
    "collapsed": true
   },
   "outputs": [],
   "source": [
    "df_words = pd.DataFrame(words)\n",
    "df_words.describe()"
   ]
  },
  {
   "cell_type": "code",
   "execution_count": null,
   "metadata": {
    "collapsed": true
   },
   "outputs": [],
   "source": [
    "(df_words < 43).sum()"
   ]
  },
  {
   "cell_type": "code",
   "execution_count": null,
   "metadata": {
    "collapsed": true
   },
   "outputs": [],
   "source": [
    "(df_words < 10).sum()"
   ]
  },
  {
   "cell_type": "code",
   "execution_count": null,
   "metadata": {
    "collapsed": true
   },
   "outputs": [],
   "source": [
    "(df_words >= 43).sum()"
   ]
  },
  {
   "cell_type": "code",
   "execution_count": null,
   "metadata": {
    "collapsed": true
   },
   "outputs": [],
   "source": [
    "df_words[df_words < 43][40:60]"
   ]
  },
  {
   "cell_type": "code",
   "execution_count": null,
   "metadata": {
    "collapsed": true
   },
   "outputs": [],
   "source": [
    "(df_words < 1000).sum()"
   ]
  },
  {
   "cell_type": "code",
   "execution_count": null,
   "metadata": {
    "collapsed": true
   },
   "outputs": [],
   "source": [
    "vocab_arr[-500:]"
   ]
  },
  {
   "cell_type": "code",
   "execution_count": null,
   "metadata": {
    "collapsed": true
   },
   "outputs": [],
   "source": [
    "vocab_arr[50:100]"
   ]
  },
  {
   "cell_type": "code",
   "execution_count": null,
   "metadata": {
    "collapsed": true
   },
   "outputs": [],
   "source": [
    "df_words[5000:].hist(bins=30)"
   ]
  },
  {
   "cell_type": "code",
   "execution_count": null,
   "metadata": {
    "collapsed": true
   },
   "outputs": [],
   "source": [
    "df_words[5000:].plot()"
   ]
  },
  {
   "cell_type": "code",
   "execution_count": null,
   "metadata": {
    "collapsed": true
   },
   "outputs": [],
   "source": [
    "avg = df_words[:2000].mean().values[0]\n",
    "df_words[:2000].plot(kind='line', ylim=(0,avg))"
   ]
  },
  {
   "cell_type": "code",
   "execution_count": null,
   "metadata": {
    "collapsed": true
   },
   "outputs": [],
   "source": [
    "avg = df_words.mean().values[0]\n",
    "df_words.plot(kind='line', ylim=(0,avg))"
   ]
  },
  {
   "cell_type": "code",
   "execution_count": null,
   "metadata": {
    "collapsed": true
   },
   "outputs": [],
   "source": [
    "sorted(df_words.values())"
   ]
  },
  {
   "cell_type": "code",
   "execution_count": null,
   "metadata": {
    "collapsed": true
   },
   "outputs": [],
   "source": [
    "plt.plot(sorted(df_words.values))"
   ]
  },
  {
   "cell_type": "code",
   "execution_count": null,
   "metadata": {
    "collapsed": true
   },
   "outputs": [],
   "source": []
  }
 ],
 "metadata": {
  "kernelspec": {
   "display_name": "Python 2",
   "language": "python",
   "name": "python2"
  },
  "language_info": {
   "codemirror_mode": {
    "name": "ipython",
    "version": 2
   },
   "file_extension": ".py",
   "mimetype": "text/x-python",
   "name": "python",
   "nbconvert_exporter": "python",
   "pygments_lexer": "ipython2",
   "version": "2.7.3"
  }
 },
 "nbformat": 4,
 "nbformat_minor": 2
}
