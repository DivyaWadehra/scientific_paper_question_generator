{
 "cells": [
  {
   "cell_type": "code",
   "execution_count": 1,
   "metadata": {
    "collapsed": true
   },
   "outputs": [],
   "source": [
    "import pandas as pd\n",
    "import numpy as np\n",
    "import os\n",
    "import matplotlib.pyplot as plt\n",
    "\n",
    "% matplotlib inline"
   ]
  },
  {
   "cell_type": "code",
   "execution_count": 2,
   "metadata": {
    "collapsed": true
   },
   "outputs": [],
   "source": [
    "\n",
    "# Import data files\n",
    "questions = pd.read_csv('../data/ai.stackexchange.com_questions.csv')\n",
    "answers = pd.read_csv('../data/ai.stackexchange.com_answers.csv')\n",
    "\n",
    "save_dir = \"../figures/\"\n",
    "name = \"ai.stackexchange.com\"\n",
    "save_dir = os.path.join(save_dir, name)\n",
    "\n",
    "if not os.path.exists(save_dir):\n",
    "    os.mkdir(save_dir)\n",
    "    print(\"Directory \" , save_dir ,  \" Created \") \n",
    "# save_dir = os.path.join(save_dir, name)"
   ]
  },
  {
   "cell_type": "markdown",
   "metadata": {},
   "source": [
    "## Preparing the data\n",
    "\n",
    "Read in the question and answer files.\n"
   ]
  },
  {
   "cell_type": "code",
   "execution_count": 3,
   "metadata": {
    "collapsed": true
   },
   "outputs": [],
   "source": [
    "def get_answer_length(row):\n",
    "    a = row['Body']\n",
    "    return len(a.split())\n",
    "\n",
    "answers.dropna(subset=['Body'], inplace=True)\n",
    "answers['AnswerLength'] = answers.apply(get_answer_length, axis=1)\n",
    "\n",
    "def get_title_length(row):\n",
    "    a = row['Title']\n",
    "    return len(a.split())\n",
    "\n",
    "questions['TitleLength'] = questions.apply(get_title_length, axis=1)"
   ]
  },
  {
   "cell_type": "markdown",
   "metadata": {},
   "source": [
    "## Question Analysis\n",
    "Count types of question in the dataset <br>\n",
    "**WH-Question**: What, Who, Whom, Whose, Which, When, Where, Why, How <br>\n",
    "**Aux-Question**: Do, Does, Did, Have, Has, Had, Is, Are, Was, Were"
   ]
  },
  {
   "cell_type": "code",
   "execution_count": 4,
   "metadata": {
    "collapsed": true
   },
   "outputs": [],
   "source": [
    "# WH-Question\n",
    "wh_list = [\n",
    "    'what', \n",
    "    'who', \n",
    "    'which', \n",
    "    'whom', \n",
    "    'where', \n",
    "    'when', \n",
    "    'whose', \n",
    "    'why', \n",
    "    'how'\n",
    "]\n",
    "\n",
    "# Do, Be, Has\n",
    "aux_list = [\n",
    "    'do',\n",
    "    'does',\n",
    "    'did',\n",
    "    'have',\n",
    "    'has',\n",
    "    'had',\n",
    "    'is',\n",
    "    'are',\n",
    "    'was',\n",
    "    'were'\n",
    "]\n",
    "\n",
    "def count_question(titles):\n",
    "    \n",
    "    ''' Count each type of questions '''\n",
    "    \n",
    "    wh_count = 0\n",
    "    aux_count = 0\n",
    "    for title in titles:\n",
    "        is_wh = False\n",
    "        token = title.split()[0]\n",
    "\n",
    "        if token in wh_list: \n",
    "            wh_count += 1\n",
    "        elif token in aux_list:\n",
    "            aux_count += 1\n",
    "    return wh_count, aux_count"
   ]
  },
  {
   "cell_type": "code",
   "execution_count": 5,
   "metadata": {},
   "outputs": [
    {
     "name": "stdout",
     "output_type": "stream",
     "text": [
      "WH-Question: 1474\n",
      "AUX-Question: 473\n",
      "Total : 3784\n"
     ]
    }
   ],
   "source": [
    "titles = questions['Title']\n",
    "wh_count, aux_count = count_question(titles)\n",
    "total = len(titles)\n",
    "normal = total - wh_count - aux_count\n",
    "\n",
    "print (\"WH-Question: {}\".format(wh_count))\n",
    "print (\"AUX-Question: {}\".format(aux_count))\n",
    "print (\"Total : {}\".format(len(titles)))"
   ]
  },
  {
   "cell_type": "markdown",
   "metadata": {},
   "source": [
    "### Visualize the data into pie chart"
   ]
  },
  {
   "cell_type": "code",
   "execution_count": 6,
   "metadata": {},
   "outputs": [
    {
     "data": {
      "image/png": "[encoded data removed]",
      "text/plain": [
       "<matplotlib.figure.Figure at 0x10bd64e90>"
      ]
     },
     "metadata": {},
     "output_type": "display_data"
    }
   ],
   "source": [
    "import seaborn as sns\n",
    "\n",
    "sns.set(style=\"darkgrid\")\n",
    "fig1, ax1 = plt.subplots()\n",
    "\n",
    "def absolute_value(val):\n",
    "    a  = int(np.round(val/100.*total, 0))\n",
    "    return a\n",
    "\n",
    "sns.set()\n",
    "sns.set_palette(\"Blues\")\n",
    "\n",
    "ax1.pie(\n",
    "    [ wh_count, aux_count, normal], \n",
    "    labels=['wh-question', 'aux-question', 'normal'],\n",
    "    autopct=absolute_value\n",
    ")\n",
    "ax1.axis('equal')\n",
    "plt.show()\n",
    "fig1.savefig(os.path.join(save_dir, 'question_type_chart.png'), dpi=300)"
   ]
  },
  {
   "cell_type": "markdown",
   "metadata": {},
   "source": [
    "## Answer Analysis\n",
    "- Basic analysis for the length of the answer\n",
    "- Basic analysis with outlier removed\n",
    "- Outlier is when the value exceeds 1.5 IQR from Q3\n",
    "- Analysys the score of the answer"
   ]
  },
  {
   "cell_type": "markdown",
   "metadata": {},
   "source": [
    "Understanding the answer's score before removing the outlier"
   ]
  },
  {
   "cell_type": "code",
   "execution_count": 7,
   "metadata": {},
   "outputs": [
    {
     "name": "stdout",
     "output_type": "stream",
     "text": [
      "Number of Answer at Score: \n",
      "Score 0: 1772\n",
      "Score 1: 1556\n",
      "Score 2: 949\n",
      "Score 3: 544\n",
      "Score 4: 264\n",
      "Score 5: 141\n",
      "Score 6: 105\n",
      "Score 7: 60\n",
      "Score 8: 31\n",
      "Score 9: 30\n",
      "Score 10: 31\n",
      "Score 11: 14\n",
      "Score 12: 12\n"
     ]
    },
    {
     "data": {
      "image/png": "[encoded data removed]",
      "text/plain": [
       "<matplotlib.figure.Figure at 0x10a3f93d0>"
      ]
     },
     "metadata": {},
     "output_type": "display_data"
    }
   ],
   "source": [
    "# Check how many answers per each score\n",
    "num_answers = []\n",
    "for i in range(13):\n",
    "    a_score = answers['Score'] == i\n",
    "    num = a_score.sum()\n",
    "    num_answers.append(num)\n",
    "\n",
    "sns.set()\n",
    "sns.set_style(\"white\")\n",
    "sns.set_palette(\"hls\")\n",
    "fig, ax = plt.subplots()\n",
    "ax.bar(range(len(num_answers)), num_answers)\n",
    "sns.despine()\n",
    "ax.set_xlabel('Score')\n",
    "ax.set_ylabel('number of answers')\n",
    "plt.savefig(os.path.join(save_dir, 'hist_score.png'), dpi=300)\n",
    "\n",
    "print (\"Number of Answer at Score: \")\n",
    "for i, v in enumerate(num_answers):\n",
    "    print (\"Score {}: {}\".format(i, v))"
   ]
  },
  {
   "cell_type": "code",
   "execution_count": 8,
   "metadata": {
    "collapsed": true
   },
   "outputs": [],
   "source": [
    "def get_arr_info(arr, column):\n",
    "    \n",
    "    \"\"\" Get info with graph about a column of DF \"\"\"\n",
    "    \n",
    "    # Describe overview of data\n",
    "    print (\"Overview (num tokens):\")\n",
    "    print (\"=========\")\n",
    "    print (arr.describe())\n",
    "    \n",
    "    # Box plot of the data\n",
    "    sns.set()\n",
    "    sns.set_style(\"whitegrid\")\n",
    "    sns.set_palette(\"BuGn_r\", 1)\n",
    "    plt.figure(figsize=(10,5))\n",
    "    \n",
    "    ax1= plt.subplot(1,2,1)\n",
    "    sns.boxplot(None, arr)\n",
    "    ax1.set_title(column + \" length (all)\")\n",
    "    ax1.set_ylabel('number of tokens')\n",
    "    \n",
    "    ax2= plt.subplot(1,2,2)\n",
    "    sns.boxplot(None, arr, showfliers=False)\n",
    "    ax2.set_title(column + \" length w/o upper outliers\")\n",
    "    ax2.set_ylabel('number of tokens')\n",
    "    \n",
    "    plt.suptitle(column + ' length')\n",
    "    plt.savefig(os.path.join(save_dir, 'boxplot_answer_length.png'), dpi=300)\n",
    "    plt.show() \n",
    "    \n",
    "    # Display Distrubtion of the data\n",
    "    \n",
    "    num_bins = 20\n",
    "    \n",
    "    sns.set()\n",
    "    sns.set_style(\"white\")\n",
    "    sns.set_palette(\"hls\")\n",
    "    plt.figure(figsize=(15,5))\n",
    "    \n",
    "    ax4 = plt.subplot(1,2,1)\n",
    "    ax4.hist(arr, bins=num_bins, alpha=1)\n",
    "    sns.despine()\n",
    "    ax4.set_xlabel(\"num of tokens\")\n",
    "    ax4.set_ylabel(\"num of \" + column)\n",
    "    \n",
    "    Q1 = arr.quantile(.25)\n",
    "    Q2 = arr.quantile(.5)\n",
    "    Q3 = arr.quantile(.75)\n",
    "    \n",
    "    IQR = Q3 - Q1\n",
    "    max_len = Q3 + IQR * 1.5\n",
    "    \n",
    "    ax5 = plt.subplot(1,2,2)\n",
    "    ax5.hist(arr, bins=num_bins, range=(0, max_len), alpha=1)\n",
    "    sns.despine()\n",
    "    ax5.set_xlabel(\"num of tokens\")\n",
    "    ax5.set_ylabel(\"num of \" + column)\n",
    "    \n",
    "    plt.suptitle(\"Distribution of Answer\\'s token\")\n",
    "    plt.savefig(os.path.join(save_dir, 'dist_answer_token.png'), dpi=300)\n",
    "    plt.show()\n",
    "    "
   ]
  },
  {
   "cell_type": "markdown",
   "metadata": {},
   "source": [
    "### Answer Analysis"
   ]
  },
  {
   "cell_type": "code",
   "execution_count": 9,
   "metadata": {},
   "outputs": [
    {
     "name": "stdout",
     "output_type": "stream",
     "text": [
      "Answer Length Analysis\n",
      "======================\n",
      "\n",
      "Overview (num tokens):\n",
      "=========\n",
      "count    5760.000000\n",
      "mean      241.445139\n",
      "std       276.350828\n",
      "min         1.000000\n",
      "25%        77.000000\n",
      "50%       161.000000\n",
      "75%       304.000000\n",
      "max      3529.000000\n",
      "Name: AnswerLength, dtype: float64\n"
     ]
    },
    {
     "data": {
      "image/png": "[encoded data removed]",
      "text/plain": [
       "<matplotlib.figure.Figure at 0x10a493090>"
      ]
     },
     "metadata": {},
     "output_type": "display_data"
    },
    {
     "data": {
      "image/png": "[encoded data removed]",
      "text/plain": [
       "<matplotlib.figure.Figure at 0x10c30f810>"
      ]
     },
     "metadata": {},
     "output_type": "display_data"
    }
   ],
   "source": [
    "print (\"Answer Length Analysis\")\n",
    "print (\"======================\\n\")\n",
    "get_arr_info(answers.AnswerLength, 'answers')"
   ]
  },
  {
   "cell_type": "markdown",
   "metadata": {},
   "source": [
    "### Title Analysis"
   ]
  },
  {
   "cell_type": "code",
   "execution_count": 10,
   "metadata": {},
   "outputs": [
    {
     "name": "stdout",
     "output_type": "stream",
     "text": [
      "Title Length Analysis\n",
      "======================\n",
      "\n",
      "Overview (num tokens):\n",
      "=========\n",
      "count    3784.000000\n",
      "mean       10.846723\n",
      "std         4.625982\n",
      "min         2.000000\n",
      "25%         8.000000\n",
      "50%        10.000000\n",
      "75%        13.000000\n",
      "max        33.000000\n",
      "Name: TitleLength, dtype: float64\n"
     ]
    },
    {
     "data": {
      "image/png": "[encoded data removed]",
      "text/plain": [
       "<matplotlib.figure.Figure at 0x10c7b8350>"
      ]
     },
     "metadata": {},
     "output_type": "display_data"
    },
    {
     "data": {
      "image/png": "[encoded data removed]",
      "text/plain": [
       "<matplotlib.figure.Figure at 0x10bdc54d0>"
      ]
     },
     "metadata": {},
     "output_type": "display_data"
    }
   ],
   "source": [
    "print (\"Title Length Analysis\")\n",
    "print (\"======================\\n\")\n",
    "get_arr_info(questions.TitleLength, 'titles')"
   ]
  },
  {
   "cell_type": "markdown",
   "metadata": {},
   "source": [
    "## Analysis of Tags\n",
    "Analyze the tag used in the question when people are posting problem"
   ]
  },
  {
   "cell_type": "code",
   "execution_count": 11,
   "metadata": {
    "collapsed": true
   },
   "outputs": [],
   "source": [
    "tags_dict = {}\n",
    "for tags in questions['Tags']:\n",
    "    for t in tags.split():\n",
    "        if t not in tags_dict:\n",
    "            tags_dict[t] = 0\n",
    "        tags_dict[t] += 1"
   ]
  },
  {
   "cell_type": "code",
   "execution_count": 12,
   "metadata": {
    "collapsed": true
   },
   "outputs": [],
   "source": [
    "tags = sorted(tags_dict.items(), key=lambda x: x[1], reverse=True)"
   ]
  },
  {
   "cell_type": "code",
   "execution_count": 13,
   "metadata": {},
   "outputs": [
    {
     "name": "stdout",
     "output_type": "stream",
     "text": [
      "Vendor:  continuum\n",
      "Product: anaconda\n",
      "Message: trial mode expires in 27 days\n",
      "Collecting wordcloud\n",
      "/anaconda2/lib/python2.7/site-packages/pip/_vendor/requests/packages/urllib3/util/ssl_.py:318: SNIMissingWarning: An HTTPS request has been made, but the SNI (Subject Name Indication) extension to TLS is not available on this platform. This may cause the server to present an incorrect TLS certificate, which can cause validation failures. You can upgrade to a newer version of Python to solve this. For more information, see https://urllib3.readthedocs.io/en/latest/security.html#snimissingwarning.\n",
      "  SNIMissingWarning\n",
      "/anaconda2/lib/python2.7/site-packages/pip/_vendor/requests/packages/urllib3/util/ssl_.py:122: InsecurePlatformWarning: A true SSLContext object is not available. This prevents urllib3 from configuring SSL appropriately and may cause certain SSL connections to fail. You can upgrade to a newer version of Python to solve this. For more information, see https://urllib3.readthedocs.io/en/latest/security.html#insecureplatformwarning.\n",
      "  InsecurePlatformWarning\n",
      "  Could not fetch URL https://pypi.python.org/simple/wordcloud/: There was a problem confirming the ssl certificate: [Errno 1] _ssl.c:504: error:1407742E:SSL routines:SSL23_GET_SERVER_HELLO:tlsv1 alert protocol version - skipping\n",
      "\u001b[31m  Could not find a version that satisfies the requirement wordcloud (from versions: )\u001b[0m\n",
      "\u001b[31mNo matching distribution found for wordcloud\u001b[0m\n",
      "/anaconda2/lib/python2.7/site-packages/pip/_vendor/requests/packages/urllib3/util/ssl_.py:122: InsecurePlatformWarning: A true SSLContext object is not available. This prevents urllib3 from configuring SSL appropriately and may cause certain SSL connections to fail. You can upgrade to a newer version of Python to solve this. For more information, see https://urllib3.readthedocs.io/en/latest/security.html#insecureplatformwarning.\n",
      "  InsecurePlatformWarning\n"
     ]
    }
   ],
   "source": [
    "!pip install wordcloud"
   ]
  },
  {
   "cell_type": "code",
   "execution_count": 15,
   "metadata": {},
   "outputs": [
    {
     "ename": "ImportError",
     "evalue": "No module named wordcloud",
     "output_type": "error",
     "traceback": [
      "\u001b[0;31m---------------------------------------------------------------------------\u001b[0m",
      "\u001b[0;31mImportError\u001b[0m                               Traceback (most recent call last)",
      "\u001b[0;32m<ipython-input-15-6a81f7de80a9>\u001b[0m in \u001b[0;36m<module>\u001b[0;34m()\u001b[0m\n\u001b[0;32m----> 1\u001b[0;31m \u001b[0;32mfrom\u001b[0m \u001b[0mwordcloud\u001b[0m \u001b[0;32mimport\u001b[0m \u001b[0mWordCloud\u001b[0m\u001b[0;34m,\u001b[0m \u001b[0mSTOPWORDS\u001b[0m\u001b[0;34m,\u001b[0m \u001b[0mImageColorGenerator\u001b[0m\u001b[0;34m\u001b[0m\u001b[0m\n\u001b[0m\u001b[1;32m      2\u001b[0m \u001b[0;34m\u001b[0m\u001b[0m\n\u001b[1;32m      3\u001b[0m \u001b[0;31m# Create and generate a word cloud image:\u001b[0m\u001b[0;34m\u001b[0m\u001b[0;34m\u001b[0m\u001b[0m\n\u001b[1;32m      4\u001b[0m \u001b[0mwordcloud\u001b[0m \u001b[0;34m=\u001b[0m \u001b[0mWordCloud\u001b[0m\u001b[0;34m(\u001b[0m\u001b[0mwidth\u001b[0m\u001b[0;34m=\u001b[0m\u001b[0;36m1200\u001b[0m\u001b[0;34m,\u001b[0m \u001b[0mheight\u001b[0m\u001b[0;34m=\u001b[0m\u001b[0;36m700\u001b[0m\u001b[0;34m,\u001b[0m \u001b[0mmax_font_size\u001b[0m\u001b[0;34m=\u001b[0m\u001b[0;36m100\u001b[0m\u001b[0;34m,\u001b[0m \u001b[0mmax_words\u001b[0m\u001b[0;34m=\u001b[0m\u001b[0;36m100\u001b[0m\u001b[0;34m,\u001b[0m \u001b[0mbackground_color\u001b[0m\u001b[0;34m=\u001b[0m\u001b[0;34m\"white\"\u001b[0m\u001b[0;34m)\u001b[0m\u001b[0;34m\u001b[0m\u001b[0m\n\u001b[1;32m      5\u001b[0m \u001b[0mwordcloud\u001b[0m \u001b[0;34m=\u001b[0m \u001b[0mwordcloud\u001b[0m\u001b[0;34m.\u001b[0m\u001b[0mgenerate_from_frequencies\u001b[0m\u001b[0;34m(\u001b[0m\u001b[0mtags_dict\u001b[0m\u001b[0;34m)\u001b[0m\u001b[0;34m\u001b[0m\u001b[0m\n",
      "\u001b[0;31mImportError\u001b[0m: No module named wordcloud"
     ]
    }
   ],
   "source": [
    "from wordcloud import WordCloud, STOPWORDS, ImageColorGenerator\n",
    "\n",
    "# Create and generate a word cloud image:\n",
    "wordcloud = WordCloud(width=1200, height=700, max_font_size=100, max_words=100, background_color=\"white\")\n",
    "wordcloud = wordcloud.generate_from_frequencies(tags_dict)\n",
    "\n",
    "# Display the generated image:\n",
    "plt.figure(figsize=(12,7))\n",
    "plt.imshow(wordcloud, interpolation='bilinear')\n",
    "plt.axis(\"off\")\n",
    "plt.savefig('./wordcloud.png', dpi=600)\n",
    "plt.show()\n",
    "\n"
   ]
  },
  {
   "cell_type": "markdown",
   "metadata": {},
   "source": [
    "## Vocabulary Size"
   ]
  },
  {
   "cell_type": "code",
   "execution_count": 30,
   "metadata": {},
   "outputs": [
    {
     "name": "stdout",
     "output_type": "stream",
     "text": [
      "num of vocabs in question: 4829\n",
      "num of vocabs: 33588\n"
     ]
    }
   ],
   "source": [
    "vocab = {}\n",
    "\n",
    "# Get token from questions title\n",
    "for titles in questions['Title']:\n",
    "    for token in titles.split():\n",
    "        if token not in vocab:\n",
    "            vocab[token] = 0\n",
    "        vocab[token] += 1\n",
    "        \n",
    "print (\"num of vocabs in question: {}\".format(len(vocab)))\n",
    "\n",
    "# Get token from questions title\n",
    "for body in answers['Body']:\n",
    "    for token in body.split():\n",
    "        if token not in vocab:\n",
    "            vocab[token] = 0\n",
    "        vocab[token] += 1\n",
    "        \n",
    "print (\"num of vocabs: {}\".format(len(vocab)))\n",
    "        "
   ]
  },
  {
   "cell_type": "code",
   "execution_count": 44,
   "metadata": {},
   "outputs": [],
   "source": [
    "vocab_arr = sorted(vocab.items(), key=lambda x: x[1], reverse=True)"
   ]
  },
  {
   "cell_type": "code",
   "execution_count": 49,
   "metadata": {},
   "outputs": [
    {
     "data": {
      "text/plain": [
       "[('the', 66569),\n",
       " (',', 56616),\n",
       " ('.', 52358),\n",
       " ('of', 35832),\n",
       " ('to', 35011),\n",
       " ('a', 33334),\n",
       " ('is', 27760),\n",
       " ('and', 24656),\n",
       " ('in', 22548),\n",
       " ('that', 18054),\n",
       " ('it', 13690),\n",
       " (')', 13541),\n",
       " ('you', 13020),\n",
       " ('for', 12394),\n",
       " ('-', 11943),\n",
       " ('be', 11761),\n",
       " ('(', 11199),\n",
       " ('\"', 10782),\n",
       " ('are', 10485),\n",
       " ('this', 9531),\n",
       " ('can', 8970),\n",
       " ('as', 8521),\n",
       " ('with', 8087),\n",
       " ('not', 7947),\n",
       " ('or', 7314),\n",
       " ('on', 6943),\n",
       " ('an', 6588),\n",
       " ('i', 6351),\n",
       " ('if', 6089),\n",
       " ('have', 5847),\n",
       " (':', 5684),\n",
       " ('$', 5677),\n",
       " ('but', 5352),\n",
       " ('learning', 5332),\n",
       " ('which', 5148),\n",
       " ('by', 5022),\n",
       " ('from', 4946),\n",
       " ('we', 4937),\n",
       " ('ai', 4897),\n",
       " ('?', 4682)]"
      ]
     },
     "execution_count": 49,
     "metadata": {},
     "output_type": "execute_result"
    }
   ],
   "source": [
    "vocab_arr[:40]"
   ]
  },
  {
   "cell_type": "code",
   "execution_count": 63,
   "metadata": {},
   "outputs": [
    {
     "data": {
      "text/plain": [
       "<matplotlib.axes._subplots.AxesSubplot at 0x1a18988410>"
      ]
     },
     "execution_count": 63,
     "metadata": {},
     "output_type": "execute_result"
    },
    {
     "data": {
      "image/png": "[encoded data removed]",
      "text/plain": [
       "<matplotlib.figure.Figure at 0x1a188ce110>"
      ]
     },
     "metadata": {},
     "output_type": "display_data"
    }
   ],
   "source": [
    "sns.boxplot(None, vocab.values()[1000:])"
   ]
  },
  {
   "cell_type": "code",
   "execution_count": 70,
   "metadata": {},
   "outputs": [],
   "source": [
    "words = sorted(vocab.values(), reverse=True)"
   ]
  },
  {
   "cell_type": "code",
   "execution_count": 92,
   "metadata": {},
   "outputs": [
    {
     "data": {
      "text/plain": [
       "[<matplotlib.lines.Line2D at 0x1a1aeaedd0>]"
      ]
     },
     "execution_count": 92,
     "metadata": {},
     "output_type": "execute_result"
    },
    {
     "data": {
      "image/png": "[encoded data removed]",
      "text/plain": [
       "<matplotlib.figure.Figure at 0x1a1abb4b90>"
      ]
     },
     "metadata": {},
     "output_type": "display_data"
    }
   ],
   "source": [
    "\n",
    "plt.plot(words[900:1000])"
   ]
  },
  {
   "cell_type": "code",
   "execution_count": 98,
   "metadata": {},
   "outputs": [
    {
     "data": {
      "text/html": [
       "<div>\n",
       "<style>\n",
       "    .dataframe thead tr:only-child th {\n",
       "        text-align: right;\n",
       "    }\n",
       "\n",
       "    .dataframe thead th {\n",
       "        text-align: left;\n",
       "    }\n",
       "\n",
       "    .dataframe tbody tr th {\n",
       "        vertical-align: top;\n",
       "    }\n",
       "</style>\n",
       "<table border=\"1\" class=\"dataframe\">\n",
       "  <thead>\n",
       "    <tr style=\"text-align: right;\">\n",
       "      <th></th>\n",
       "      <th>0</th>\n",
       "    </tr>\n",
       "  </thead>\n",
       "  <tbody>\n",
       "    <tr>\n",
       "      <th>count</th>\n",
       "      <td>33588.000000</td>\n",
       "    </tr>\n",
       "    <tr>\n",
       "      <th>mean</th>\n",
       "      <td>42.627367</td>\n",
       "    </tr>\n",
       "    <tr>\n",
       "      <th>std</th>\n",
       "      <td>754.352766</td>\n",
       "    </tr>\n",
       "    <tr>\n",
       "      <th>min</th>\n",
       "      <td>1.000000</td>\n",
       "    </tr>\n",
       "    <tr>\n",
       "      <th>25%</th>\n",
       "      <td>1.000000</td>\n",
       "    </tr>\n",
       "    <tr>\n",
       "      <th>50%</th>\n",
       "      <td>2.000000</td>\n",
       "    </tr>\n",
       "    <tr>\n",
       "      <th>75%</th>\n",
       "      <td>6.000000</td>\n",
       "    </tr>\n",
       "    <tr>\n",
       "      <th>max</th>\n",
       "      <td>66569.000000</td>\n",
       "    </tr>\n",
       "  </tbody>\n",
       "</table>\n",
       "</div>"
      ],
      "text/plain": [
       "                  0\n",
       "count  33588.000000\n",
       "mean      42.627367\n",
       "std      754.352766\n",
       "min        1.000000\n",
       "25%        1.000000\n",
       "50%        2.000000\n",
       "75%        6.000000\n",
       "max    66569.000000"
      ]
     },
     "execution_count": 98,
     "metadata": {},
     "output_type": "execute_result"
    }
   ],
   "source": [
    "df_words = pd.DataFrame(words)\n",
    "df_words.describe()"
   ]
  },
  {
   "cell_type": "code",
   "execution_count": 116,
   "metadata": {},
   "outputs": [
    {
     "data": {
      "text/plain": [
       "0    30931\n",
       "dtype: int64"
      ]
     },
     "execution_count": 116,
     "metadata": {},
     "output_type": "execute_result"
    }
   ],
   "source": [
    "(df_words < 43).sum()"
   ]
  },
  {
   "cell_type": "code",
   "execution_count": 117,
   "metadata": {},
   "outputs": [
    {
     "data": {
      "text/plain": [
       "0    27051\n",
       "dtype: int64"
      ]
     },
     "execution_count": 117,
     "metadata": {},
     "output_type": "execute_result"
    }
   ],
   "source": [
    "(df_words < 10).sum()"
   ]
  },
  {
   "cell_type": "code",
   "execution_count": 100,
   "metadata": {},
   "outputs": [
    {
     "data": {
      "text/plain": [
       "0    2657\n",
       "dtype: int64"
      ]
     },
     "execution_count": 100,
     "metadata": {},
     "output_type": "execute_result"
    }
   ],
   "source": [
    "(df_words >= 43).sum()"
   ]
  },
  {
   "cell_type": "code",
   "execution_count": 104,
   "metadata": {},
   "outputs": [
    {
     "data": {
      "text/html": [
       "<div>\n",
       "<style>\n",
       "    .dataframe thead tr:only-child th {\n",
       "        text-align: right;\n",
       "    }\n",
       "\n",
       "    .dataframe thead th {\n",
       "        text-align: left;\n",
       "    }\n",
       "\n",
       "    .dataframe tbody tr th {\n",
       "        vertical-align: top;\n",
       "    }\n",
       "</style>\n",
       "<table border=\"1\" class=\"dataframe\">\n",
       "  <thead>\n",
       "    <tr style=\"text-align: right;\">\n",
       "      <th></th>\n",
       "      <th>0</th>\n",
       "    </tr>\n",
       "  </thead>\n",
       "  <tbody>\n",
       "    <tr>\n",
       "      <th>40</th>\n",
       "      <td>NaN</td>\n",
       "    </tr>\n",
       "    <tr>\n",
       "      <th>41</th>\n",
       "      <td>NaN</td>\n",
       "    </tr>\n",
       "    <tr>\n",
       "      <th>42</th>\n",
       "      <td>NaN</td>\n",
       "    </tr>\n",
       "    <tr>\n",
       "      <th>43</th>\n",
       "      <td>NaN</td>\n",
       "    </tr>\n",
       "    <tr>\n",
       "      <th>44</th>\n",
       "      <td>NaN</td>\n",
       "    </tr>\n",
       "    <tr>\n",
       "      <th>45</th>\n",
       "      <td>NaN</td>\n",
       "    </tr>\n",
       "    <tr>\n",
       "      <th>46</th>\n",
       "      <td>NaN</td>\n",
       "    </tr>\n",
       "    <tr>\n",
       "      <th>47</th>\n",
       "      <td>NaN</td>\n",
       "    </tr>\n",
       "    <tr>\n",
       "      <th>48</th>\n",
       "      <td>NaN</td>\n",
       "    </tr>\n",
       "    <tr>\n",
       "      <th>49</th>\n",
       "      <td>NaN</td>\n",
       "    </tr>\n",
       "    <tr>\n",
       "      <th>50</th>\n",
       "      <td>NaN</td>\n",
       "    </tr>\n",
       "    <tr>\n",
       "      <th>51</th>\n",
       "      <td>NaN</td>\n",
       "    </tr>\n",
       "    <tr>\n",
       "      <th>52</th>\n",
       "      <td>NaN</td>\n",
       "    </tr>\n",
       "    <tr>\n",
       "      <th>53</th>\n",
       "      <td>NaN</td>\n",
       "    </tr>\n",
       "    <tr>\n",
       "      <th>54</th>\n",
       "      <td>NaN</td>\n",
       "    </tr>\n",
       "    <tr>\n",
       "      <th>55</th>\n",
       "      <td>NaN</td>\n",
       "    </tr>\n",
       "    <tr>\n",
       "      <th>56</th>\n",
       "      <td>NaN</td>\n",
       "    </tr>\n",
       "    <tr>\n",
       "      <th>57</th>\n",
       "      <td>NaN</td>\n",
       "    </tr>\n",
       "    <tr>\n",
       "      <th>58</th>\n",
       "      <td>NaN</td>\n",
       "    </tr>\n",
       "    <tr>\n",
       "      <th>59</th>\n",
       "      <td>NaN</td>\n",
       "    </tr>\n",
       "  </tbody>\n",
       "</table>\n",
       "</div>"
      ],
      "text/plain": [
       "     0\n",
       "40 NaN\n",
       "41 NaN\n",
       "42 NaN\n",
       "43 NaN\n",
       "44 NaN\n",
       "45 NaN\n",
       "46 NaN\n",
       "47 NaN\n",
       "48 NaN\n",
       "49 NaN\n",
       "50 NaN\n",
       "51 NaN\n",
       "52 NaN\n",
       "53 NaN\n",
       "54 NaN\n",
       "55 NaN\n",
       "56 NaN\n",
       "57 NaN\n",
       "58 NaN\n",
       "59 NaN"
      ]
     },
     "execution_count": 104,
     "metadata": {},
     "output_type": "execute_result"
    }
   ],
   "source": [
    "df_words[df_words < 43][40:60]"
   ]
  },
  {
   "cell_type": "code",
   "execution_count": 124,
   "metadata": {},
   "outputs": [
    {
     "data": {
      "text/plain": [
       "0    33422\n",
       "dtype: int64"
      ]
     },
     "execution_count": 124,
     "metadata": {},
     "output_type": "execute_result"
    }
   ],
   "source": [
    "(df_words < 1000).sum()"
   ]
  },
  {
   "cell_type": "code",
   "execution_count": 110,
   "metadata": {},
   "outputs": [
    {
     "data": {
      "text/plain": [
       "[('v_d$', 1),\n",
       " ('spiritualizing', 1),\n",
       " ('goalscorer', 1),\n",
       " ('koncel', 1),\n",
       " ('softmax(s_t)$', 1),\n",
       " ('storable', 1),\n",
       " ('argument(s', 1),\n",
       " ('vertebrae', 1),\n",
       " ('laughable', 1),\n",
       " ('forcefully', 1),\n",
       " ('branded', 1),\n",
       " ('aglimpse', 1),\n",
       " ('primate', 1),\n",
       " ('dissolvere', 1),\n",
       " ('0.625$.', 1),\n",
       " ('protons', 1),\n",
       " ('railwaystation', 1),\n",
       " ('berkely', 1),\n",
       " ('machine(instead', 1),\n",
       " ('protects', 1),\n",
       " ('functionalists', 1),\n",
       " ('5.1', 1),\n",
       " ('5.2', 1),\n",
       " ('5.3', 1),\n",
       " ('musics', 1),\n",
       " ('5.8', 1),\n",
       " ('y=-1', 1),\n",
       " ('gulcehre', 1),\n",
       " ('\\\\end{array', 1),\n",
       " ('td(\\xce\\xbb', 1),\n",
       " ('1_p$', 1),\n",
       " ('preexisted', 1),\n",
       " ('nonchalantly', 1),\n",
       " ('departure', 1),\n",
       " ('trevor', 1),\n",
       " ('callback', 1),\n",
       " ('bosomed', 1),\n",
       " ('1701.02620', 1),\n",
       " ('\\\\gamma^2', 1),\n",
       " ('magnanimity', 1),\n",
       " ('w_2(w_1x+b_1)+b_2', 1),\n",
       " ('recompiles', 1),\n",
       " ('a)\\\\right]$$', 1),\n",
       " ('eluded', 1),\n",
       " ('2*pi', 1),\n",
       " ('blast', 1),\n",
       " ('conformist', 1),\n",
       " ('body.and', 1),\n",
       " ('inhibits', 1),\n",
       " ('residing', 1),\n",
       " ('w(she)$$', 1),\n",
       " ('computerscience', 1),\n",
       " ('horswill', 1),\n",
       " ('undertake', 1),\n",
       " ('l_m(\\\\boldsymbol{\\\\theta', 1),\n",
       " ('-2(b)}$.', 1),\n",
       " ('output_layer.backprop(expected_output', 1),\n",
       " ('level(not', 1),\n",
       " ('r_k$$', 1),\n",
       " ('satinder', 1),\n",
       " ('stereotyping', 1),\n",
       " ('3.02', 1),\n",
       " ('forgive', 1),\n",
       " ('13430', 1),\n",
       " ('olexa', 1),\n",
       " ('s_{t-1}$', 1),\n",
       " ('bathroom1_4', 1),\n",
       " ('https://en.wikipedia.org/wiki/connected-component_labeling', 1),\n",
       " ('modularity', 1),\n",
       " ('bathroom1_3', 1),\n",
       " ('bathroom1_2', 1),\n",
       " ('churning', 1),\n",
       " ('-|d_{hole', 1),\n",
       " ('\\xce\\xbd.value', 1),\n",
       " ('ctheonvergence', 1),\n",
       " ('10:55:50', 1),\n",
       " ('181', 1),\n",
       " ('syrup', 1),\n",
       " ('revisited', 1),\n",
       " ('headache', 1),\n",
       " ('information3', 1),\n",
       " ('3d$', 1),\n",
       " ('nullifying', 1),\n",
       " ('explodes', 1),\n",
       " ('9\\\\}$', 1),\n",
       " ('dant', 1),\n",
       " ('saitoh', 1),\n",
       " ('zainab', 1),\n",
       " ('stalk', 1),\n",
       " ('preiss', 1),\n",
       " ('transcriptions', 1),\n",
       " ('garfield', 1),\n",
       " ('hohac', 1),\n",
       " ('gall', 1),\n",
       " ('robustly', 1),\n",
       " ('pianist', 1),\n",
       " ('tmp.droptocolumn', 1),\n",
       " ('p(x;y)$', 1),\n",
       " ('soares', 1),\n",
       " ('sandra', 1),\n",
       " ('sandro', 1),\n",
       " ('infrastructures', 1),\n",
       " ('equatorial', 1),\n",
       " ('bugaboo', 1),\n",
       " ('coincides', 1),\n",
       " ('transfrom', 1),\n",
       " ('convgru', 1),\n",
       " ('acgt', 1),\n",
       " ('reassembled', 1),\n",
       " ('fond', 1),\n",
       " ('@mico', 1),\n",
       " ('10/13/2016', 1),\n",
       " ('unbridled', 1),\n",
       " ('document.getelementbyid(\"inputqry', 1),\n",
       " ('isrlu', 1),\n",
       " ('t/2', 1),\n",
       " ('underflow', 1),\n",
       " ('betray', 1),\n",
       " ('unilaterally', 1),\n",
       " ('hip', 1),\n",
       " ('unconsidered', 1),\n",
       " ('whistle', 1),\n",
       " ('explosively', 1),\n",
       " ('https://grafana.com/', 1),\n",
       " ('cartoons', 1),\n",
       " ('untying', 1),\n",
       " ('pvp', 1),\n",
       " ('bary', 1),\n",
       " ('kalchbrenner', 1),\n",
       " ('kurve', 1),\n",
       " ('arg', 1),\n",
       " ('pvm', 1),\n",
       " ('2024', 1),\n",
       " ('x\\\\phi$', 1),\n",
       " ('io9', 1),\n",
       " ('unions', 1),\n",
       " ('at&amp;t', 1),\n",
       " ('peeled', 1),\n",
       " ('yes\"--pattern', 1),\n",
       " ('https://stackoverflow.com/questions/6499880/ios-gesture-recognition-utilizing-accelerometer-and-gyroscope',\n",
       "  1),\n",
       " ('denomination', 1),\n",
       " ('segmantation', 1),\n",
       " ('pcas', 1),\n",
       " ('\\\\pi}[\\\\sum_{k=0}^\\\\infty', 1),\n",
       " ('e[(r', 1),\n",
       " ('sub)human', 1),\n",
       " ('risto', 1),\n",
       " ('blazed', 1),\n",
       " ('f(h(t', 1),\n",
       " ('glcmcount(self', 1),\n",
       " ('cryptosystem', 1),\n",
       " ('improper', 1),\n",
       " ('\\\\sum_{i=0}^{n-1', 1),\n",
       " ('jugglers', 1),\n",
       " ('dense(10', 1),\n",
       " ('waypoint', 1),\n",
       " ('n=60', 1),\n",
       " ('schwab', 1),\n",
       " ('unhappier', 1),\n",
       " ('misbehaving', 1),\n",
       " ('-------------------------------', 1),\n",
       " ('results.there', 1),\n",
       " ('fernandez', 1),\n",
       " ('mistreat', 1),\n",
       " ('faraji', 1),\n",
       " ('rim', 1),\n",
       " ('lodged', 1),\n",
       " ('rif', 1),\n",
       " ('retroactively', 1),\n",
       " ('https://caffe2.ai/', 1),\n",
       " ('foretells', 1),\n",
       " ('itchy', 1),\n",
       " ('ruc+cmu', 1),\n",
       " ('deluding', 1),\n",
       " ('starves', 1),\n",
       " ('dared', 1),\n",
       " ('triac', 1),\n",
       " ('inspirational', 1),\n",
       " ('endeavour', 1),\n",
       " ('@mikewise', 1),\n",
       " ('rosehop', 1),\n",
       " ('maschine', 1),\n",
       " ('couch', 1),\n",
       " ('rosebrockis', 1),\n",
       " ('rpns', 1),\n",
       " ('corroborated', 1),\n",
       " ('tamer', 1),\n",
       " ('0.3681', 1),\n",
       " ('softbank', 1),\n",
       " ('sharpened', 1),\n",
       " ('incidental', 1),\n",
       " ('breeder', 1),\n",
       " ('zucchini', 1),\n",
       " ('eluding', 1),\n",
       " ('empt', 1),\n",
       " ('sahindis', 1),\n",
       " ('\\\\sum_a', 1),\n",
       " ('t2)**2', 1),\n",
       " ('compressors', 1),\n",
       " ('textdetector', 1),\n",
       " ('ticking', 1),\n",
       " ('necrophilia', 1),\n",
       " ('published.the', 1),\n",
       " ('anne', 1),\n",
       " ('prod', 1),\n",
       " ('proc', 1),\n",
       " ('conv3d', 1),\n",
       " ('unimpressed', 1),\n",
       " ('unnoticed', 1),\n",
       " ('z&gt;0', 1),\n",
       " ('credibly', 1),\n",
       " ('blxalpha', 1),\n",
       " ('\\\\gamma^{k', 1),\n",
       " ('signifies', 1),\n",
       " ('relu$', 1),\n",
       " ('buyout', 1),\n",
       " ('crane', 1),\n",
       " ('3,40', 1),\n",
       " ('termdesc', 1),\n",
       " ('y^(i', 1),\n",
       " ('focussing', 1),\n",
       " ('divisive', 1),\n",
       " ('~3.5', 1),\n",
       " ('mitsuku.com', 1),\n",
       " ('p.33', 1),\n",
       " ('https://www.tensorflow.org/api_docs/python/tf/nn/crelu', 1),\n",
       " ('1,376,000,000', 1),\n",
       " ('diffent', 1),\n",
       " ('rule.action', 1),\n",
       " ('s)}\\\\frac{p(\\\\lnot', 1),\n",
       " ('2d$', 1),\n",
       " ('extruding', 1),\n",
       " ('lafayette', 1),\n",
       " ('30r$', 1),\n",
       " ('https://stats.stackexchange.com/q/113417/82135', 1),\n",
       " ('lysosome', 1),\n",
       " ('bedroom1', 1),\n",
       " ('https://github.com/josephmisiti/awesome-machine-learning', 1),\n",
       " ('lally', 1),\n",
       " ('magnifying', 1),\n",
       " ('-(probs*probs.log()).sum', 1),\n",
       " ('75013', 1),\n",
       " ('axis=1', 1),\n",
       " ('ridiculousness', 1),\n",
       " ('fences', 1),\n",
       " ('accomploshed', 1),\n",
       " ('\\\\text{maxweight', 1),\n",
       " ('ananth', 1),\n",
       " ('murdoch', 1),\n",
       " ('1}^{n_s', 1),\n",
       " ('procession', 1),\n",
       " ('claudiu', 1),\n",
       " ('y=\\\\{0', 1),\n",
       " ('rebell', 1),\n",
       " ('prot\\xc3\\xa9g\\xc3\\xa9', 1),\n",
       " ('handedly', 1),\n",
       " ('recomputing', 1),\n",
       " ('scrapped', 1),\n",
       " ('https://www.infoworld.com/article/3026262/machine-learning/13-frameworks-for-mastering-machine-learning.html#slide4',\n",
       "  1),\n",
       " ('1982].', 1),\n",
       " ('cyclist', 1),\n",
       " ('ultraintelligence', 1),\n",
       " ('https://math.stackexchange.com/questions/485752/tictactoe-state-space-choose-calculation',\n",
       "  1),\n",
       " ('metro', 1),\n",
       " ('symbionts', 1),\n",
       " ('oversold', 1),\n",
       " ('drovandi', 1),\n",
       " ('parroting', 1),\n",
       " ('helpers', 1),\n",
       " ('1.1)^2', 1),\n",
       " ('forbin', 1),\n",
       " ('\\\\frac{\\\\text{rms}\\\\left', 1),\n",
       " ('forbid', 1),\n",
       " ('dwarves', 1),\n",
       " ('e(w_i)$', 1),\n",
       " ('h((x_1', 1),\n",
       " ('slug', 1),\n",
       " ('modicum', 1),\n",
       " ('interrogativity', 1),\n",
       " ('liebniz', 1),\n",
       " ('https://www.khanacademy.org/math/probability', 1),\n",
       " ('l_m$', 1),\n",
       " (\"activation='elu')(encoder\", 1),\n",
       " ('annoy', 1),\n",
       " ('supremacy', 1),\n",
       " ('https://www.ijcai.org/past_proceedings', 1),\n",
       " ('\\\\text{overcast', 1),\n",
       " ('indulgence', 1),\n",
       " ('lt;ai', 1),\n",
       " ('tad', 1),\n",
       " ('guru', 1),\n",
       " ('fortunate', 1),\n",
       " ('actualities', 1),\n",
       " ('panic', 1),\n",
       " ('@bilanush', 1),\n",
       " ('exemplify', 1),\n",
       " ('v_{\\\\pi}(s_{t+1', 1),\n",
       " ('ethnic', 1),\n",
       " ('tf.placeholder', 1),\n",
       " ('wwii', 1),\n",
       " ('destructiveness', 1),\n",
       " ('epochs=100', 1),\n",
       " ('plot3d(e(w', 1),\n",
       " ('cv2.imshow(\"testing', 1),\n",
       " ('terriers', 1),\n",
       " ('interoperation.[2', 1),\n",
       " ('https://www.youtube.com/watch?v=lvohnicueoe', 1),\n",
       " ('unacceptability', 1),\n",
       " ('sinners', 1),\n",
       " ('transmitter', 1),\n",
       " ('dirac', 1),\n",
       " ('\\\\text{max}_a', 1),\n",
       " ('weapon1-weapon2', 1),\n",
       " ('tran', 1),\n",
       " ('mathemtical', 1),\n",
       " ('document.getelementbyid(\"termdesc', 1),\n",
       " ('a_{t-1}=a\\\\right]=\\\\sum_{r\\\\in', 1),\n",
       " ('brush', 1),\n",
       " ('j.r', 1),\n",
       " ('bhand', 1),\n",
       " ('desireable', 1),\n",
       " ('firepower', 1),\n",
       " (\"loss='mse\", 1),\n",
       " ('brilliantly', 1),\n",
       " ('adhesives', 1),\n",
       " ('https://s3.amazonaws.com/academia.edu.documents/34691735/dbn4lvcsr-transaslp.pdf?awsaccesskeyid=akiaiwowyygz2y53ul3a&amp;expires=1534211789&amp;signature=33qcfp0jgfea%2ftsqjqzpxyrigm8%3d&amp;response-content-disposition=inline%3b%20filename%3dcontext-dependent_pre-trained_deep_neura.pdf',\n",
       "  1),\n",
       " ('t+1}$', 1),\n",
       " ('isevil', 1),\n",
       " ('barns', 1),\n",
       " ('reexamined', 1),\n",
       " ('nyquest', 1),\n",
       " ('segregates', 1),\n",
       " ('feasibly', 1),\n",
       " ('adrian', 1),\n",
       " ('stanis\\xc5\\x82aw', 1),\n",
       " ('hitherto', 1),\n",
       " ('synchronously', 1),\n",
       " ('droop', 1),\n",
       " ('overtime', 1),\n",
       " ('t-1})$$', 1),\n",
       " ('network(algorithm', 1),\n",
       " ('arcore', 1),\n",
       " ('appl', 1),\n",
       " ('paradigms(rather', 1),\n",
       " ('n(s_j)\\\\big', 1),\n",
       " ('https://github.com/seleniumhq/selenium', 1),\n",
       " ('ungated', 1),\n",
       " ('riches', 1),\n",
       " ('richer', 1),\n",
       " ('wilks', 1),\n",
       " ('dqn(regressions', 1),\n",
       " ('xlabel', 1),\n",
       " ('https://en.wikipedia.org/wiki/replicant', 1),\n",
       " ('sculpture', 1),\n",
       " ('1.8', 1),\n",
       " ('persecute', 1),\n",
       " ('outstrip', 1),\n",
       " ('15/20', 1),\n",
       " ('input(s', 1),\n",
       " ('r_j', 1),\n",
       " ('ahold', 1),\n",
       " ('act(x.dot(w)+b', 1),\n",
       " ('divert', 1),\n",
       " ('r_f', 1),\n",
       " ('crept', 1),\n",
       " ('blockchain(ben', 1),\n",
       " ('1,no', 1),\n",
       " ('biologic', 1),\n",
       " ('highschool', 1),\n",
       " ('1.i', 1),\n",
       " ('archiving', 1),\n",
       " ('dent', 1),\n",
       " ('https://math.stackexchange.com/q/532897/6876', 1),\n",
       " ('https://papers.cnl.salk.edu/pdfs/optimal%20perceptual%20inference%201983-646.pdf',\n",
       "  1),\n",
       " ('print(\"\\\\r\\\\ncorrect', 1),\n",
       " ('superimposer', 1),\n",
       " ('playbook', 1),\n",
       " ('https://nlp.stanford.edu/projects/project-induction.shtml', 1),\n",
       " ('meaing', 1),\n",
       " ('asterix', 1),\n",
       " ('parallel(not', 1),\n",
       " ('moel', 1),\n",
       " ('zhuowen', 1),\n",
       " ('990', 1),\n",
       " ('unchained', 1),\n",
       " ('lwjvja', 1),\n",
       " ('https://en.wikipedia.org/wiki/semi-supervised_learning', 1),\n",
       " ('lvq', 1),\n",
       " ('dops', 1),\n",
       " (\"v(s'_2)$\", 1),\n",
       " ('rate(i.e', 1),\n",
       " ('inceptionnet', 1),\n",
       " ('quaternary', 1),\n",
       " ('f(x_i)$', 1),\n",
       " ('viet', 1),\n",
       " ('ebp', 1),\n",
       " ('e^{kx}$', 1),\n",
       " ('superb', 1),\n",
       " ('conlusions', 1),\n",
       " ('pants', 1),\n",
       " ('f\\xc3\\xbcrnkranz', 1),\n",
       " ('rs2228485', 1),\n",
       " ('audiovisual', 1),\n",
       " ('homebrew', 1),\n",
       " ('completethe', 1),\n",
       " ('tiers', 1),\n",
       " ('y^{(i)}$', 1),\n",
       " ('env.reset', 1),\n",
       " ('a)}{p(a', 1),\n",
       " ('canopy', 1),\n",
       " ('doxosphoi', 1),\n",
       " ('unhappiness', 1),\n",
       " ('f({\\\\bf', 1),\n",
       " ('rightfire', 1),\n",
       " ('montecarlo', 1),\n",
       " ('truncations', 1),\n",
       " ('https://www.tensorflow.org/mobile/prepare_models', 1),\n",
       " ('implementors', 1),\n",
       " ('https://arxiv.org/pdf/1102.1808.pdf', 1),\n",
       " ('decompressed', 1),\n",
       " ('metaethics', 1),\n",
       " ('irate', 1),\n",
       " ('cursor', 1),\n",
       " ('hovering', 1),\n",
       " ('1/500th', 1),\n",
       " ('propergation', 1),\n",
       " ('tf.reduce_mean(self.loss_policy_fast', 1),\n",
       " ('gain(thus', 1),\n",
       " ('set(in', 1),\n",
       " ('j(\\xce\\xb8\\xe2\\x88\\x92\\xce\\xb5)j(\\xce\\xb8\\xe2\\x88\\x92\\xce\\xb5', 1),\n",
       " ('privileges', 1),\n",
       " ('headlight', 1),\n",
       " ('kt$', 1),\n",
       " ('adverse', 1),\n",
       " ('make_atari', 1),\n",
       " ('privileged', 1),\n",
       " ('elbows', 1),\n",
       " ('\\\\mu_{n+1', 1),\n",
       " ('jalisia', 1),\n",
       " ('attentively', 1),\n",
       " ('contendere', 1),\n",
       " ('pettitt', 1),\n",
       " ('anthropomatics', 1),\n",
       " ('tamagotchie', 1),\n",
       " ('umuroglu', 1),\n",
       " ('tamagotchis', 1),\n",
       " ('https://stackoverflow.com/questions/55042/how-can-i-program-a-simple-chat-bot-ai',\n",
       "  1),\n",
       " ('e=(1', 1),\n",
       " ('crannies', 1),\n",
       " ('time(c', 1),\n",
       " ('readymade', 1),\n",
       " ('dateparser', 1),\n",
       " ('armonk', 1),\n",
       " ('7360\\xc3\\x974912', 1),\n",
       " ('noze', 1),\n",
       " ('ahem', 1),\n",
       " ('dropconnect', 1),\n",
       " ('mosquitoes', 1),\n",
       " ('preposition', 1),\n",
       " ('111', 1),\n",
       " ('113', 1),\n",
       " ('flummoxed', 1),\n",
       " ('en-us.utf-8', 1),\n",
       " ('murdock', 1),\n",
       " ('strides=(1', 1),\n",
       " ('murderer', 1),\n",
       " ('murdered', 1),\n",
       " ('taggle', 1),\n",
       " ('11x', 1),\n",
       " ('3,628,800', 1),\n",
       " ('surge', 1),\n",
       " ('warranty', 1),\n",
       " ('gunther', 1),\n",
       " ('registration', 1),\n",
       " ('f)/s)+1)$', 1),\n",
       " ('eh', 1),\n",
       " ('brundage', 1),\n",
       " ('svcs', 1),\n",
       " ('adverbials', 1),\n",
       " ('o(n', 1),\n",
       " ('wight', 1),\n",
       " ('o(p', 1),\n",
       " ('intrusive', 1),\n",
       " ('e^(-5', 1),\n",
       " ('windfall', 1),\n",
       " ('right(horizontal', 1),\n",
       " ('tacotron', 1),\n",
       " ('trainperformance', 1),\n",
       " ('https://stackoverflow.com/questions/828486/neural-net-optimize-w-genetic-algorithm',\n",
       "  1),\n",
       " ('domesticated', 1),\n",
       " ('relu+backpropagation', 1),\n",
       " ('hashcodes', 1),\n",
       " ('boop', 1),\n",
       " ('yuhui', 1),\n",
       " ('bool', 1),\n",
       " ('boom', 1),\n",
       " ('coding/', 1),\n",
       " ('medications', 1),\n",
       " ('sheri', 1),\n",
       " ('-1/101', 1)]"
      ]
     },
     "execution_count": 110,
     "metadata": {},
     "output_type": "execute_result"
    }
   ],
   "source": [
    "vocab_arr[-500:]"
   ]
  },
  {
   "cell_type": "code",
   "execution_count": 113,
   "metadata": {},
   "outputs": [
    {
     "data": {
      "text/plain": [
       "[('at', 3487),\n",
       " ('so', 3468),\n",
       " ('data', 3404),\n",
       " (\"n't\", 3343),\n",
       " ('network', 3239),\n",
       " ('use', 3080),\n",
       " ('how', 3032),\n",
       " ('like', 2913),\n",
       " ('neural', 2912),\n",
       " ('they', 2890),\n",
       " ('=', 2851),\n",
       " ('all', 2807),\n",
       " ('has', 2787),\n",
       " ('other', 2672),\n",
       " ('function', 2626),\n",
       " ('then', 2550),\n",
       " ('model', 2458),\n",
       " ('also', 2452),\n",
       " ('intelligence', 2442),\n",
       " ('may', 2403),\n",
       " ('problem', 2367),\n",
       " (\"'\", 2297),\n",
       " ('time', 2248),\n",
       " ('about', 2235),\n",
       " ('using', 2230),\n",
       " ('could', 2224),\n",
       " ('human', 2207),\n",
       " ('training', 2206),\n",
       " ('only', 2156),\n",
       " ('when', 2097),\n",
       " ('such', 2097),\n",
       " ('these', 2077),\n",
       " ('than', 2069),\n",
       " ('any', 2023),\n",
       " ('/', 2014),\n",
       " ('state', 1977),\n",
       " ('used', 1936),\n",
       " ('example', 1922),\n",
       " ('does', 1921),\n",
       " ('because', 1920),\n",
       " ('no', 1916),\n",
       " (';', 1887),\n",
       " ('algorithm', 1882),\n",
       " ('networks', 1863),\n",
       " ('machine', 1855),\n",
       " ('just', 1823),\n",
       " ('where', 1807),\n",
       " ('based', 1800),\n",
       " ('each', 1783),\n",
       " ('system', 1775)]"
      ]
     },
     "execution_count": 113,
     "metadata": {},
     "output_type": "execute_result"
    }
   ],
   "source": [
    "vocab_arr[50:100]"
   ]
  },
  {
   "cell_type": "code",
   "execution_count": 129,
   "metadata": {},
   "outputs": [
    {
     "data": {
      "text/plain": [
       "array([[<matplotlib.axes._subplots.AxesSubplot object at 0x1a1cf8c650>]], dtype=object)"
      ]
     },
     "execution_count": 129,
     "metadata": {},
     "output_type": "execute_result"
    },
    {
     "data": {
      "image/png": "[encoded data removed]",
      "text/plain": [
       "<matplotlib.figure.Figure at 0x1a1cfe6f50>"
      ]
     },
     "metadata": {},
     "output_type": "display_data"
    }
   ],
   "source": [
    "df_words[5000:].hist(bins=30)"
   ]
  },
  {
   "cell_type": "code",
   "execution_count": 136,
   "metadata": {},
   "outputs": [
    {
     "data": {
      "text/plain": [
       "<matplotlib.axes._subplots.AxesSubplot at 0x1a1dcc9d10>"
      ]
     },
     "execution_count": 136,
     "metadata": {},
     "output_type": "execute_result"
    },
    {
     "data": {
      "image/png": "[encoded data removed]",
      "text/plain": [
       "<matplotlib.figure.Figure at 0x1a1de75b50>"
      ]
     },
     "metadata": {},
     "output_type": "display_data"
    }
   ],
   "source": [
    "df_words[5000:].plot()"
   ]
  },
  {
   "cell_type": "code",
   "execution_count": 146,
   "metadata": {},
   "outputs": [
    {
     "data": {
      "text/plain": [
       "<matplotlib.axes._subplots.AxesSubplot at 0x1a1dab2c10>"
      ]
     },
     "execution_count": 146,
     "metadata": {},
     "output_type": "execute_result"
    },
    {
     "data": {
      "image/png": "[encoded data removed]",
      "text/plain": [
       "<matplotlib.figure.Figure at 0x1a1dce4050>"
      ]
     },
     "metadata": {},
     "output_type": "display_data"
    }
   ],
   "source": [
    "avg = df_words[:2000].mean().values[0]\n",
    "df_words[:2000].plot(kind='line', ylim=(0,avg))"
   ]
  },
  {
   "cell_type": "code",
   "execution_count": 147,
   "metadata": {},
   "outputs": [
    {
     "data": {
      "text/plain": [
       "<matplotlib.axes._subplots.AxesSubplot at 0x1a1ddeef10>"
      ]
     },
     "execution_count": 147,
     "metadata": {},
     "output_type": "execute_result"
    },
    {
     "data": {
      "image/png": "[encoded data removed]",
      "text/plain": [
       "<matplotlib.figure.Figure at 0x1a1dad3950>"
      ]
     },
     "metadata": {},
     "output_type": "display_data"
    }
   ],
   "source": [
    "avg = df_words.mean().values[0]\n",
    "df_words.plot(kind='line', ylim=(0,avg))"
   ]
  },
  {
   "cell_type": "code",
   "execution_count": 151,
   "metadata": {},
   "outputs": [
    {
     "ename": "TypeError",
     "evalue": "'numpy.ndarray' object is not callable",
     "output_type": "error",
     "traceback": [
      "\u001b[0;31m---------------------------------------------------------------------------\u001b[0m",
      "\u001b[0;31mTypeError\u001b[0m                                 Traceback (most recent call last)",
      "\u001b[0;32m<ipython-input-151-cc91b950a1b0>\u001b[0m in \u001b[0;36m<module>\u001b[0;34m()\u001b[0m\n\u001b[0;32m----> 1\u001b[0;31m \u001b[0msorted\u001b[0m\u001b[0;34m(\u001b[0m\u001b[0mdf_words\u001b[0m\u001b[0;34m.\u001b[0m\u001b[0mvalues\u001b[0m\u001b[0;34m(\u001b[0m\u001b[0;34m)\u001b[0m\u001b[0;34m)\u001b[0m\u001b[0;34m\u001b[0m\u001b[0m\n\u001b[0m",
      "\u001b[0;31mTypeError\u001b[0m: 'numpy.ndarray' object is not callable"
     ]
    }
   ],
   "source": [
    "sorted(df_words.values())"
   ]
  },
  {
   "cell_type": "code",
   "execution_count": 155,
   "metadata": {},
   "outputs": [
    {
     "data": {
      "text/plain": [
       "[<matplotlib.lines.Line2D at 0x1a20f83d50>]"
      ]
     },
     "execution_count": 155,
     "metadata": {},
     "output_type": "execute_result"
    },
    {
     "data": {
      "image/png": "[encoded data removed]",
      "text/plain": [
       "<matplotlib.figure.Figure at 0x1a1de35b90>"
      ]
     },
     "metadata": {},
     "output_type": "display_data"
    }
   ],
   "source": [
    "plt.plot(sorted(df_words.values))"
   ]
  },
  {
   "cell_type": "code",
   "execution_count": null,
   "metadata": {
    "collapsed": true
   },
   "outputs": [],
   "source": []
  }
 ],
 "metadata": {
  "kernelspec": {
   "display_name": "Python 2",
   "language": "python",
   "name": "python2"
  },
  "language_info": {
   "codemirror_mode": {
    "name": "ipython",
    "version": 2
   },
   "file_extension": ".py",
   "mimetype": "text/x-python",
   "name": "python",
   "nbconvert_exporter": "python",
   "pygments_lexer": "ipython2",
   "version": "2.7.3"
  }
 },
 "nbformat": 4,
 "nbformat_minor": 2
}
